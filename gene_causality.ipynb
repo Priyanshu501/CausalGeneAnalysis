{
 "cells": [
  {
   "cell_type": "markdown",
   "metadata": {},
   "source": [
    "# Exploring Gene Causality"
   ]
  },
  {
   "cell_type": "markdown",
   "metadata": {},
   "source": [
    "### Importing Necessary Libraries"
   ]
  },
  {
   "cell_type": "code",
   "execution_count": 2,
   "metadata": {},
   "outputs": [],
   "source": [
    "import pandas as pd\n",
    "import matplotlib.pyplot as plt\n",
    "import numpy as np\n",
    "import warnings\n",
    "warnings.filterwarnings('ignore')"
   ]
  },
  {
   "cell_type": "markdown",
   "metadata": {},
   "source": [
    "### Importing necessary files"
   ]
  },
  {
   "cell_type": "code",
   "execution_count": 3,
   "metadata": {},
   "outputs": [],
   "source": [
    "phenotype = pd.read_csv('data/opentargets_step2.for_llm.tsv', sep='\\t')\n",
    "causal_gene = pd.read_csv('data/opentargets_step2.labels', sep='\\t')"
   ]
  },
  {
   "cell_type": "markdown",
   "metadata": {},
   "source": [
    "### Mapping Causal and Non-causal genes"
   ]
  },
  {
   "cell_type": "code",
   "execution_count": 4,
   "metadata": {},
   "outputs": [
    {
     "data": {
      "text/html": [
       "<div>\n",
       "<style scoped>\n",
       "    .dataframe tbody tr th:only-of-type {\n",
       "        vertical-align: middle;\n",
       "    }\n",
       "\n",
       "    .dataframe tbody tr th {\n",
       "        vertical-align: top;\n",
       "    }\n",
       "\n",
       "    .dataframe thead th {\n",
       "        text-align: right;\n",
       "    }\n",
       "</style>\n",
       "<table border=\"1\" class=\"dataframe\">\n",
       "  <thead>\n",
       "    <tr style=\"text-align: right;\">\n",
       "      <th></th>\n",
       "      <th>row_number</th>\n",
       "      <th>description</th>\n",
       "      <th>symbol_gene_string</th>\n",
       "      <th>ensembl_gene_string</th>\n",
       "      <th>symbol</th>\n",
       "      <th>gene</th>\n",
       "    </tr>\n",
       "  </thead>\n",
       "  <tbody>\n",
       "    <tr>\n",
       "      <th>0</th>\n",
       "      <td>1</td>\n",
       "      <td>Carotenoid and tocopherol levels (beta-caroten...</td>\n",
       "      <td>{ATMIN},{BCO1},{C16orf46},{CDYL2},{CENPN},{CMC...</td>\n",
       "      <td>{ENSG00000103121},{ENSG00000135697},{ENSG00000...</td>\n",
       "      <td>BCO1</td>\n",
       "      <td>ENSG00000135697</td>\n",
       "    </tr>\n",
       "    <tr>\n",
       "      <th>1</th>\n",
       "      <td>2</td>\n",
       "      <td>Bilirubin levels</td>\n",
       "      <td>{ATG16L1},{DGKD},{HJURP},{MROH2A},{SAG},{SPP2}...</td>\n",
       "      <td>{ENSG00000072080},{ENSG00000077044},{ENSG00000...</td>\n",
       "      <td>UGT1A8</td>\n",
       "      <td>ENSG00000242366</td>\n",
       "    </tr>\n",
       "    <tr>\n",
       "      <th>2</th>\n",
       "      <td>3</td>\n",
       "      <td>Bilirubin levels</td>\n",
       "      <td>{ARHGAP4},{ATP6AP1},{AVPR2},{CTAG1A},{CTAG1B},...</td>\n",
       "      <td>{ENSG00000007350},{ENSG00000013563},{ENSG00000...</td>\n",
       "      <td>G6PD</td>\n",
       "      <td>ENSG00000160211</td>\n",
       "    </tr>\n",
       "    <tr>\n",
       "      <th>3</th>\n",
       "      <td>4</td>\n",
       "      <td>Sphingolipid levels (SM 14:0Mol%) (sphingomyel...</td>\n",
       "      <td>{ESR2},{GPHB5},{PPP2R5E},{RHOJ},{SGPP1},{SYNE2...</td>\n",
       "      <td>{ENSG00000054654},{ENSG00000126785},{ENSG00000...</td>\n",
       "      <td>SGPP1</td>\n",
       "      <td>ENSG00000126821</td>\n",
       "    </tr>\n",
       "    <tr>\n",
       "      <th>4</th>\n",
       "      <td>5</td>\n",
       "      <td>Fasting glucose-related traits (FPG) (D-Glucose)</td>\n",
       "      <td>{ABCB11},{CERS6},{DHRS9},{G6PC2},{LRP2},{NOSTR...</td>\n",
       "      <td>{ENSG00000073734},{ENSG00000073737},{ENSG00000...</td>\n",
       "      <td>G6PC2</td>\n",
       "      <td>ENSG00000152254</td>\n",
       "    </tr>\n",
       "  </tbody>\n",
       "</table>\n",
       "</div>"
      ],
      "text/plain": [
       "   row_number                                        description  \\\n",
       "0           1  Carotenoid and tocopherol levels (beta-caroten...   \n",
       "1           2                                   Bilirubin levels   \n",
       "2           3                                   Bilirubin levels   \n",
       "3           4  Sphingolipid levels (SM 14:0Mol%) (sphingomyel...   \n",
       "4           5   Fasting glucose-related traits (FPG) (D-Glucose)   \n",
       "\n",
       "                                  symbol_gene_string  \\\n",
       "0  {ATMIN},{BCO1},{C16orf46},{CDYL2},{CENPN},{CMC...   \n",
       "1  {ATG16L1},{DGKD},{HJURP},{MROH2A},{SAG},{SPP2}...   \n",
       "2  {ARHGAP4},{ATP6AP1},{AVPR2},{CTAG1A},{CTAG1B},...   \n",
       "3  {ESR2},{GPHB5},{PPP2R5E},{RHOJ},{SGPP1},{SYNE2...   \n",
       "4  {ABCB11},{CERS6},{DHRS9},{G6PC2},{LRP2},{NOSTR...   \n",
       "\n",
       "                                 ensembl_gene_string  symbol             gene  \n",
       "0  {ENSG00000103121},{ENSG00000135697},{ENSG00000...    BCO1  ENSG00000135697  \n",
       "1  {ENSG00000072080},{ENSG00000077044},{ENSG00000...  UGT1A8  ENSG00000242366  \n",
       "2  {ENSG00000007350},{ENSG00000013563},{ENSG00000...    G6PD  ENSG00000160211  \n",
       "3  {ENSG00000054654},{ENSG00000126785},{ENSG00000...   SGPP1  ENSG00000126821  \n",
       "4  {ENSG00000073734},{ENSG00000073737},{ENSG00000...   G6PC2  ENSG00000152254  "
      ]
     },
     "execution_count": 4,
     "metadata": {},
     "output_type": "execute_result"
    }
   ],
   "source": [
    "# Merging \"opentargets_step2.for_llm.tsv\" with \"opentargets_step2.labels\"\n",
    "\n",
    "gene_causality = pd.merge(phenotype, causal_gene, left_index=True, right_index=True)\n",
    "gene_causality.head()"
   ]
  },
  {
   "cell_type": "code",
   "execution_count": 5,
   "metadata": {},
   "outputs": [],
   "source": [
    "# Re-arranging and Renaming columns for better interpretation\n",
    "\n",
    "gene_causality.drop(columns=['row_number'], inplace=True)\n",
    "gene_causality = gene_causality.rename(columns={'symbol_gene_string': 'non_causal_gene_symbol', 'symbol':'causal_gene_symbol', 'ensembl_gene_string':'non_causal_gene', 'gene':'causal_gene'})\n",
    "gene_causality = gene_causality[['description', 'causal_gene_symbol', 'non_causal_gene_symbol', 'causal_gene', 'non_causal_gene']]"
   ]
  },
  {
   "cell_type": "code",
   "execution_count": 6,
   "metadata": {},
   "outputs": [
    {
     "data": {
      "text/html": [
       "<div>\n",
       "<style scoped>\n",
       "    .dataframe tbody tr th:only-of-type {\n",
       "        vertical-align: middle;\n",
       "    }\n",
       "\n",
       "    .dataframe tbody tr th {\n",
       "        vertical-align: top;\n",
       "    }\n",
       "\n",
       "    .dataframe thead th {\n",
       "        text-align: right;\n",
       "    }\n",
       "</style>\n",
       "<table border=\"1\" class=\"dataframe\">\n",
       "  <thead>\n",
       "    <tr style=\"text-align: right;\">\n",
       "      <th></th>\n",
       "      <th>description</th>\n",
       "      <th>causal_gene_symbol</th>\n",
       "      <th>non_causal_gene_symbol</th>\n",
       "      <th>causal_gene</th>\n",
       "      <th>non_causal_gene</th>\n",
       "    </tr>\n",
       "  </thead>\n",
       "  <tbody>\n",
       "    <tr>\n",
       "      <th>0</th>\n",
       "      <td>Carotenoid and tocopherol levels (beta-caroten...</td>\n",
       "      <td>BCO1</td>\n",
       "      <td>{ATMIN},{BCO1},{C16orf46},{CDYL2},{CENPN},{CMC...</td>\n",
       "      <td>ENSG00000135697</td>\n",
       "      <td>{ENSG00000103121},{ENSG00000135697},{ENSG00000...</td>\n",
       "    </tr>\n",
       "    <tr>\n",
       "      <th>1</th>\n",
       "      <td>Bilirubin levels</td>\n",
       "      <td>UGT1A8</td>\n",
       "      <td>{ATG16L1},{DGKD},{HJURP},{MROH2A},{SAG},{SPP2}...</td>\n",
       "      <td>ENSG00000242366</td>\n",
       "      <td>{ENSG00000072080},{ENSG00000077044},{ENSG00000...</td>\n",
       "    </tr>\n",
       "    <tr>\n",
       "      <th>2</th>\n",
       "      <td>Bilirubin levels</td>\n",
       "      <td>G6PD</td>\n",
       "      <td>{ARHGAP4},{ATP6AP1},{AVPR2},{CTAG1A},{CTAG1B},...</td>\n",
       "      <td>ENSG00000160211</td>\n",
       "      <td>{ENSG00000007350},{ENSG00000013563},{ENSG00000...</td>\n",
       "    </tr>\n",
       "    <tr>\n",
       "      <th>3</th>\n",
       "      <td>Sphingolipid levels (SM 14:0Mol%) (sphingomyel...</td>\n",
       "      <td>SGPP1</td>\n",
       "      <td>{ESR2},{GPHB5},{PPP2R5E},{RHOJ},{SGPP1},{SYNE2...</td>\n",
       "      <td>ENSG00000126821</td>\n",
       "      <td>{ENSG00000054654},{ENSG00000126785},{ENSG00000...</td>\n",
       "    </tr>\n",
       "    <tr>\n",
       "      <th>4</th>\n",
       "      <td>Fasting glucose-related traits (FPG) (D-Glucose)</td>\n",
       "      <td>G6PC2</td>\n",
       "      <td>{ABCB11},{CERS6},{DHRS9},{G6PC2},{LRP2},{NOSTR...</td>\n",
       "      <td>ENSG00000152254</td>\n",
       "      <td>{ENSG00000073734},{ENSG00000073737},{ENSG00000...</td>\n",
       "    </tr>\n",
       "  </tbody>\n",
       "</table>\n",
       "</div>"
      ],
      "text/plain": [
       "                                         description causal_gene_symbol  \\\n",
       "0  Carotenoid and tocopherol levels (beta-caroten...               BCO1   \n",
       "1                                   Bilirubin levels             UGT1A8   \n",
       "2                                   Bilirubin levels               G6PD   \n",
       "3  Sphingolipid levels (SM 14:0Mol%) (sphingomyel...              SGPP1   \n",
       "4   Fasting glucose-related traits (FPG) (D-Glucose)              G6PC2   \n",
       "\n",
       "                              non_causal_gene_symbol      causal_gene  \\\n",
       "0  {ATMIN},{BCO1},{C16orf46},{CDYL2},{CENPN},{CMC...  ENSG00000135697   \n",
       "1  {ATG16L1},{DGKD},{HJURP},{MROH2A},{SAG},{SPP2}...  ENSG00000242366   \n",
       "2  {ARHGAP4},{ATP6AP1},{AVPR2},{CTAG1A},{CTAG1B},...  ENSG00000160211   \n",
       "3  {ESR2},{GPHB5},{PPP2R5E},{RHOJ},{SGPP1},{SYNE2...  ENSG00000126821   \n",
       "4  {ABCB11},{CERS6},{DHRS9},{G6PC2},{LRP2},{NOSTR...  ENSG00000152254   \n",
       "\n",
       "                                     non_causal_gene  \n",
       "0  {ENSG00000103121},{ENSG00000135697},{ENSG00000...  \n",
       "1  {ENSG00000072080},{ENSG00000077044},{ENSG00000...  \n",
       "2  {ENSG00000007350},{ENSG00000013563},{ENSG00000...  \n",
       "3  {ENSG00000054654},{ENSG00000126785},{ENSG00000...  \n",
       "4  {ENSG00000073734},{ENSG00000073737},{ENSG00000...  "
      ]
     },
     "execution_count": 6,
     "metadata": {},
     "output_type": "execute_result"
    }
   ],
   "source": [
    "gene_causality.head()"
   ]
  },
  {
   "cell_type": "markdown",
   "metadata": {},
   "source": [
    "### Creating a Unique Data Subset"
   ]
  },
  {
   "cell_type": "markdown",
   "metadata": {},
   "source": [
    "#### Generating Hash Value"
   ]
  },
  {
   "cell_type": "code",
   "execution_count": 7,
   "metadata": {},
   "outputs": [
    {
     "name": "stdout",
     "output_type": "stream",
     "text": [
      "Hash Value: 92809370568750228341718092559122365287424820600467330445745328006855960134190\n"
     ]
    }
   ],
   "source": [
    "import hashlib\n",
    "\n",
    "name = 'priyanshurao'\n",
    "\n",
    "# Creating a hash using SHA-256\n",
    "hash_object = hashlib.sha256(name.encode())\n",
    "hash_values = int(hash_object.hexdigest(), 16)\n",
    "\n",
    "print(f'Hash Value: {hash_values}')"
   ]
  },
  {
   "cell_type": "markdown",
   "metadata": {},
   "source": [
    "#### Sampling 500 Phenotypes using Hash Seed"
   ]
  },
  {
   "cell_type": "code",
   "execution_count": 8,
   "metadata": {},
   "outputs": [
    {
     "data": {
      "text/html": [
       "<div>\n",
       "<style scoped>\n",
       "    .dataframe tbody tr th:only-of-type {\n",
       "        vertical-align: middle;\n",
       "    }\n",
       "\n",
       "    .dataframe tbody tr th {\n",
       "        vertical-align: top;\n",
       "    }\n",
       "\n",
       "    .dataframe thead th {\n",
       "        text-align: right;\n",
       "    }\n",
       "</style>\n",
       "<table border=\"1\" class=\"dataframe\">\n",
       "  <thead>\n",
       "    <tr style=\"text-align: right;\">\n",
       "      <th></th>\n",
       "      <th>description</th>\n",
       "      <th>causal_gene_symbol</th>\n",
       "      <th>non_causal_gene_symbol</th>\n",
       "      <th>causal_gene</th>\n",
       "      <th>non_causal_gene</th>\n",
       "    </tr>\n",
       "  </thead>\n",
       "  <tbody>\n",
       "    <tr>\n",
       "      <th>0</th>\n",
       "      <td>Bilirubin levels</td>\n",
       "      <td>UGT1A8</td>\n",
       "      <td>{ATG16L1},{DGKD},{HJURP},{MROH2A},{SAG},{SPP2}...</td>\n",
       "      <td>ENSG00000242366</td>\n",
       "      <td>{ENSG00000072080},{ENSG00000077044},{ENSG00000...</td>\n",
       "    </tr>\n",
       "    <tr>\n",
       "      <th>1</th>\n",
       "      <td>Bilirubin levels</td>\n",
       "      <td>G6PD</td>\n",
       "      <td>{ARHGAP4},{ATP6AP1},{AVPR2},{CTAG1A},{CTAG1B},...</td>\n",
       "      <td>ENSG00000160211</td>\n",
       "      <td>{ENSG00000007350},{ENSG00000013563},{ENSG00000...</td>\n",
       "    </tr>\n",
       "    <tr>\n",
       "      <th>2</th>\n",
       "      <td>Sphingolipid levels (SM 14:0Mol%) (sphingomyel...</td>\n",
       "      <td>SGPP1</td>\n",
       "      <td>{ESR2},{GPHB5},{PPP2R5E},{RHOJ},{SGPP1},{SYNE2...</td>\n",
       "      <td>ENSG00000126821</td>\n",
       "      <td>{ENSG00000054654},{ENSG00000126785},{ENSG00000...</td>\n",
       "    </tr>\n",
       "    <tr>\n",
       "      <th>3</th>\n",
       "      <td>Vitamin D insufficiency (25-Hydroxyvitamin D2)</td>\n",
       "      <td>GC</td>\n",
       "      <td>{GC},{NPFFR2},{SLC4A4}</td>\n",
       "      <td>ENSG00000145321</td>\n",
       "      <td>{ENSG00000056291},{ENSG00000080493},{ENSG00000...</td>\n",
       "    </tr>\n",
       "    <tr>\n",
       "      <th>4</th>\n",
       "      <td>Phosphorus levels</td>\n",
       "      <td>FGF23</td>\n",
       "      <td>{AKAP3},{C12orf4},{CCND2},{DYRK4},{ENSG0000025...</td>\n",
       "      <td>ENSG00000118972</td>\n",
       "      <td>{ENSG00000010219},{ENSG00000047621},{ENSG00000...</td>\n",
       "    </tr>\n",
       "    <tr>\n",
       "      <th>...</th>\n",
       "      <td>...</td>\n",
       "      <td>...</td>\n",
       "      <td>...</td>\n",
       "      <td>...</td>\n",
       "      <td>...</td>\n",
       "    </tr>\n",
       "    <tr>\n",
       "      <th>495</th>\n",
       "      <td>platelet crit (plateletcrit)</td>\n",
       "      <td>ZFPM2</td>\n",
       "      <td>{ZFPM2}</td>\n",
       "      <td>ENSG00000169946</td>\n",
       "      <td>{ENSG00000169946}</td>\n",
       "    </tr>\n",
       "    <tr>\n",
       "      <th>496</th>\n",
       "      <td>melanocytic naevi (skin pigmentation)</td>\n",
       "      <td>BNC2</td>\n",
       "      <td>{BNC2},{CNTLN}</td>\n",
       "      <td>ENSG00000173068</td>\n",
       "      <td>{ENSG00000044459},{ENSG00000173068}</td>\n",
       "    </tr>\n",
       "    <tr>\n",
       "      <th>497</th>\n",
       "      <td>treatment with nicorandil (coronary artery dis...</td>\n",
       "      <td>CDKN2A</td>\n",
       "      <td>{CDKN2A},{CDKN2B},{DMRTA1},{MTAP}</td>\n",
       "      <td>ENSG00000147889</td>\n",
       "      <td>{ENSG00000099810},{ENSG00000147883},{ENSG00000...</td>\n",
       "    </tr>\n",
       "    <tr>\n",
       "      <th>498</th>\n",
       "      <td>treatment with nicorandil (coronary artery dis...</td>\n",
       "      <td>CDKN2B</td>\n",
       "      <td>{CDKN2A},{CDKN2B},{DMRTA1},{MTAP}</td>\n",
       "      <td>ENSG00000147883</td>\n",
       "      <td>{ENSG00000099810},{ENSG00000147883},{ENSG00000...</td>\n",
       "    </tr>\n",
       "    <tr>\n",
       "      <th>499</th>\n",
       "      <td>arthrosis of hip (osteoarthritis, hip)</td>\n",
       "      <td>LMX1B</td>\n",
       "      <td>{ANGPTL2},{LMX1B},{MVB12B},{RALGPS1},{ZBTB34},...</td>\n",
       "      <td>ENSG00000136944</td>\n",
       "      <td>{ENSG00000136828},{ENSG00000136859},{ENSG00000...</td>\n",
       "    </tr>\n",
       "  </tbody>\n",
       "</table>\n",
       "<p>500 rows × 5 columns</p>\n",
       "</div>"
      ],
      "text/plain": [
       "                                           description causal_gene_symbol  \\\n",
       "0                                     Bilirubin levels             UGT1A8   \n",
       "1                                     Bilirubin levels               G6PD   \n",
       "2    Sphingolipid levels (SM 14:0Mol%) (sphingomyel...              SGPP1   \n",
       "3       Vitamin D insufficiency (25-Hydroxyvitamin D2)                 GC   \n",
       "4                                    Phosphorus levels              FGF23   \n",
       "..                                                 ...                ...   \n",
       "495                       platelet crit (plateletcrit)              ZFPM2   \n",
       "496              melanocytic naevi (skin pigmentation)               BNC2   \n",
       "497  treatment with nicorandil (coronary artery dis...             CDKN2A   \n",
       "498  treatment with nicorandil (coronary artery dis...             CDKN2B   \n",
       "499             arthrosis of hip (osteoarthritis, hip)              LMX1B   \n",
       "\n",
       "                                non_causal_gene_symbol      causal_gene  \\\n",
       "0    {ATG16L1},{DGKD},{HJURP},{MROH2A},{SAG},{SPP2}...  ENSG00000242366   \n",
       "1    {ARHGAP4},{ATP6AP1},{AVPR2},{CTAG1A},{CTAG1B},...  ENSG00000160211   \n",
       "2    {ESR2},{GPHB5},{PPP2R5E},{RHOJ},{SGPP1},{SYNE2...  ENSG00000126821   \n",
       "3                               {GC},{NPFFR2},{SLC4A4}  ENSG00000145321   \n",
       "4    {AKAP3},{C12orf4},{CCND2},{DYRK4},{ENSG0000025...  ENSG00000118972   \n",
       "..                                                 ...              ...   \n",
       "495                                            {ZFPM2}  ENSG00000169946   \n",
       "496                                     {BNC2},{CNTLN}  ENSG00000173068   \n",
       "497                  {CDKN2A},{CDKN2B},{DMRTA1},{MTAP}  ENSG00000147889   \n",
       "498                  {CDKN2A},{CDKN2B},{DMRTA1},{MTAP}  ENSG00000147883   \n",
       "499  {ANGPTL2},{LMX1B},{MVB12B},{RALGPS1},{ZBTB34},...  ENSG00000136944   \n",
       "\n",
       "                                       non_causal_gene  \n",
       "0    {ENSG00000072080},{ENSG00000077044},{ENSG00000...  \n",
       "1    {ENSG00000007350},{ENSG00000013563},{ENSG00000...  \n",
       "2    {ENSG00000054654},{ENSG00000126785},{ENSG00000...  \n",
       "3    {ENSG00000056291},{ENSG00000080493},{ENSG00000...  \n",
       "4    {ENSG00000010219},{ENSG00000047621},{ENSG00000...  \n",
       "..                                                 ...  \n",
       "495                                  {ENSG00000169946}  \n",
       "496                {ENSG00000044459},{ENSG00000173068}  \n",
       "497  {ENSG00000099810},{ENSG00000147883},{ENSG00000...  \n",
       "498  {ENSG00000099810},{ENSG00000147883},{ENSG00000...  \n",
       "499  {ENSG00000136828},{ENSG00000136859},{ENSG00000...  \n",
       "\n",
       "[500 rows x 5 columns]"
      ]
     },
     "metadata": {},
     "output_type": "display_data"
    }
   ],
   "source": [
    "import random\n",
    "\n",
    "random.seed(hash_values)\n",
    "df = gene_causality.sample(n=500, random_state=random.randint(0, 2**32 - 1))\n",
    "\n",
    "# Sorting df by index number\n",
    "df = df.sort_index()\n",
    "\n",
    "# Resetting index\n",
    "df.reset_index(inplace=True, drop=True)\n",
    "\n",
    "display(df)"
   ]
  },
  {
   "cell_type": "markdown",
   "metadata": {},
   "source": [
    "### Data Cleaning & Overview"
   ]
  },
  {
   "cell_type": "code",
   "execution_count": 9,
   "metadata": {},
   "outputs": [],
   "source": [
    "df['non_causal_gene_symbol'] = df['non_causal_gene_symbol'].str.replace('{','').str.replace('}','')\n",
    "df['non_causal_gene'] = df['non_causal_gene'].str.replace('{','').str.replace('}','')"
   ]
  },
  {
   "cell_type": "code",
   "execution_count": 10,
   "metadata": {},
   "outputs": [
    {
     "data": {
      "text/html": [
       "<div>\n",
       "<style scoped>\n",
       "    .dataframe tbody tr th:only-of-type {\n",
       "        vertical-align: middle;\n",
       "    }\n",
       "\n",
       "    .dataframe tbody tr th {\n",
       "        vertical-align: top;\n",
       "    }\n",
       "\n",
       "    .dataframe thead th {\n",
       "        text-align: right;\n",
       "    }\n",
       "</style>\n",
       "<table border=\"1\" class=\"dataframe\">\n",
       "  <thead>\n",
       "    <tr style=\"text-align: right;\">\n",
       "      <th></th>\n",
       "      <th>description</th>\n",
       "      <th>causal_gene_symbol</th>\n",
       "      <th>non_causal_gene_symbol</th>\n",
       "      <th>causal_gene</th>\n",
       "      <th>non_causal_gene</th>\n",
       "    </tr>\n",
       "  </thead>\n",
       "  <tbody>\n",
       "    <tr>\n",
       "      <th>0</th>\n",
       "      <td>Bilirubin levels</td>\n",
       "      <td>UGT1A8</td>\n",
       "      <td>ATG16L1,DGKD,HJURP,MROH2A,SAG,SPP2,TRPM8,UGT1A...</td>\n",
       "      <td>ENSG00000242366</td>\n",
       "      <td>ENSG00000072080,ENSG00000077044,ENSG0000008597...</td>\n",
       "    </tr>\n",
       "    <tr>\n",
       "      <th>1</th>\n",
       "      <td>Bilirubin levels</td>\n",
       "      <td>G6PD</td>\n",
       "      <td>ARHGAP4,ATP6AP1,AVPR2,CTAG1A,CTAG1B,CTAG2,DKC1...</td>\n",
       "      <td>ENSG00000160211</td>\n",
       "      <td>ENSG00000007350,ENSG00000013563,ENSG0000006784...</td>\n",
       "    </tr>\n",
       "    <tr>\n",
       "      <th>2</th>\n",
       "      <td>Sphingolipid levels (SM 14:0Mol%) (sphingomyel...</td>\n",
       "      <td>SGPP1</td>\n",
       "      <td>ESR2,GPHB5,PPP2R5E,RHOJ,SGPP1,SYNE2,WDR89</td>\n",
       "      <td>ENSG00000126821</td>\n",
       "      <td>ENSG00000054654,ENSG00000126785,ENSG0000012682...</td>\n",
       "    </tr>\n",
       "    <tr>\n",
       "      <th>3</th>\n",
       "      <td>Vitamin D insufficiency (25-Hydroxyvitamin D2)</td>\n",
       "      <td>GC</td>\n",
       "      <td>GC,NPFFR2,SLC4A4</td>\n",
       "      <td>ENSG00000145321</td>\n",
       "      <td>ENSG00000056291,ENSG00000080493,ENSG00000145321</td>\n",
       "    </tr>\n",
       "    <tr>\n",
       "      <th>4</th>\n",
       "      <td>Phosphorus levels</td>\n",
       "      <td>FGF23</td>\n",
       "      <td>AKAP3,C12orf4,CCND2,DYRK4,ENSG00000255639,ENSG...</td>\n",
       "      <td>ENSG00000118972</td>\n",
       "      <td>ENSG00000010219,ENSG00000047621,ENSG0000007823...</td>\n",
       "    </tr>\n",
       "  </tbody>\n",
       "</table>\n",
       "</div>"
      ],
      "text/plain": [
       "                                         description causal_gene_symbol  \\\n",
       "0                                   Bilirubin levels             UGT1A8   \n",
       "1                                   Bilirubin levels               G6PD   \n",
       "2  Sphingolipid levels (SM 14:0Mol%) (sphingomyel...              SGPP1   \n",
       "3     Vitamin D insufficiency (25-Hydroxyvitamin D2)                 GC   \n",
       "4                                  Phosphorus levels              FGF23   \n",
       "\n",
       "                              non_causal_gene_symbol      causal_gene  \\\n",
       "0  ATG16L1,DGKD,HJURP,MROH2A,SAG,SPP2,TRPM8,UGT1A...  ENSG00000242366   \n",
       "1  ARHGAP4,ATP6AP1,AVPR2,CTAG1A,CTAG1B,CTAG2,DKC1...  ENSG00000160211   \n",
       "2          ESR2,GPHB5,PPP2R5E,RHOJ,SGPP1,SYNE2,WDR89  ENSG00000126821   \n",
       "3                                   GC,NPFFR2,SLC4A4  ENSG00000145321   \n",
       "4  AKAP3,C12orf4,CCND2,DYRK4,ENSG00000255639,ENSG...  ENSG00000118972   \n",
       "\n",
       "                                     non_causal_gene  \n",
       "0  ENSG00000072080,ENSG00000077044,ENSG0000008597...  \n",
       "1  ENSG00000007350,ENSG00000013563,ENSG0000006784...  \n",
       "2  ENSG00000054654,ENSG00000126785,ENSG0000012682...  \n",
       "3    ENSG00000056291,ENSG00000080493,ENSG00000145321  \n",
       "4  ENSG00000010219,ENSG00000047621,ENSG0000007823...  "
      ]
     },
     "execution_count": 10,
     "metadata": {},
     "output_type": "execute_result"
    }
   ],
   "source": [
    "df.head()"
   ]
  },
  {
   "cell_type": "markdown",
   "metadata": {},
   "source": [
    "#### Checking for Missing Data"
   ]
  },
  {
   "cell_type": "code",
   "execution_count": 11,
   "metadata": {},
   "outputs": [
    {
     "data": {
      "text/plain": [
       "description               0\n",
       "causal_gene_symbol        0\n",
       "non_causal_gene_symbol    0\n",
       "causal_gene               0\n",
       "non_causal_gene           0\n",
       "dtype: int64"
      ]
     },
     "execution_count": 11,
     "metadata": {},
     "output_type": "execute_result"
    }
   ],
   "source": [
    "# Checking for Missing data\n",
    "df.isnull().sum()"
   ]
  },
  {
   "cell_type": "markdown",
   "metadata": {},
   "source": [
    "#### Checking for Duplicate Rows and Handling them if any"
   ]
  },
  {
   "cell_type": "code",
   "execution_count": 12,
   "metadata": {},
   "outputs": [
    {
     "data": {
      "text/plain": [
       "113"
      ]
     },
     "execution_count": 12,
     "metadata": {},
     "output_type": "execute_result"
    }
   ],
   "source": [
    "# Checking for Duplicate rows\n",
    "df.duplicated().sum()"
   ]
  },
  {
   "cell_type": "code",
   "execution_count": 13,
   "metadata": {},
   "outputs": [
    {
     "data": {
      "text/html": [
       "<div>\n",
       "<style scoped>\n",
       "    .dataframe tbody tr th:only-of-type {\n",
       "        vertical-align: middle;\n",
       "    }\n",
       "\n",
       "    .dataframe tbody tr th {\n",
       "        vertical-align: top;\n",
       "    }\n",
       "\n",
       "    .dataframe thead th {\n",
       "        text-align: right;\n",
       "    }\n",
       "</style>\n",
       "<table border=\"1\" class=\"dataframe\">\n",
       "  <thead>\n",
       "    <tr style=\"text-align: right;\">\n",
       "      <th></th>\n",
       "      <th>description</th>\n",
       "      <th>causal_gene_symbol</th>\n",
       "      <th>non_causal_gene_symbol</th>\n",
       "      <th>causal_gene</th>\n",
       "      <th>non_causal_gene</th>\n",
       "    </tr>\n",
       "  </thead>\n",
       "  <tbody>\n",
       "    <tr>\n",
       "      <th>133</th>\n",
       "      <td>Hypercholesterolemia</td>\n",
       "      <td>PCSK9</td>\n",
       "      <td>ACOT11,BSND,DHCR24,FAM151A,LEXM,MROH7,MROH7-TT...</td>\n",
       "      <td>ENSG00000169174</td>\n",
       "      <td>ENSG00000006555,ENSG00000116133,ENSG0000014300...</td>\n",
       "    </tr>\n",
       "    <tr>\n",
       "      <th>136</th>\n",
       "      <td>Coronary artery disease</td>\n",
       "      <td>PCSK9</td>\n",
       "      <td>ACOT11,BSND,DHCR24,FAM151A,LEXM,MROH7,MROH7-TT...</td>\n",
       "      <td>ENSG00000169174</td>\n",
       "      <td>ENSG00000006555,ENSG00000116133,ENSG0000014300...</td>\n",
       "    </tr>\n",
       "    <tr>\n",
       "      <th>137</th>\n",
       "      <td>Coronary artery disease</td>\n",
       "      <td>PCSK9</td>\n",
       "      <td>ACOT11,BSND,DHCR24,FAM151A,LEXM,MROH7,MROH7-TT...</td>\n",
       "      <td>ENSG00000169174</td>\n",
       "      <td>ENSG00000006555,ENSG00000116133,ENSG0000014300...</td>\n",
       "    </tr>\n",
       "    <tr>\n",
       "      <th>139</th>\n",
       "      <td>High cholesterol (Hypercholesterolemia)</td>\n",
       "      <td>PCSK9</td>\n",
       "      <td>ACOT11,BSND,DHCR24,FAM151A,LEXM,MROH7,MROH7-TT...</td>\n",
       "      <td>ENSG00000169174</td>\n",
       "      <td>ENSG00000006555,ENSG00000116133,ENSG0000014300...</td>\n",
       "    </tr>\n",
       "    <tr>\n",
       "      <th>143</th>\n",
       "      <td>Rheumatoid arthritis</td>\n",
       "      <td>IL6R</td>\n",
       "      <td>ADAR,AQP10,ATP8B2,C1orf43,CFAP141,CHRNB2,CREB3...</td>\n",
       "      <td>ENSG00000160712</td>\n",
       "      <td>ENSG00000143515,ENSG00000143543,ENSG0000014354...</td>\n",
       "    </tr>\n",
       "    <tr>\n",
       "      <th>...</th>\n",
       "      <td>...</td>\n",
       "      <td>...</td>\n",
       "      <td>...</td>\n",
       "      <td>...</td>\n",
       "      <td>...</td>\n",
       "    </tr>\n",
       "    <tr>\n",
       "      <th>417</th>\n",
       "      <td>Type 2 diabetes (type II diabetes mellitus)</td>\n",
       "      <td>GLIS3</td>\n",
       "      <td>AK3,CDC37L1,GLIS3,PLPP6,SLC1A1,SPATA6L</td>\n",
       "      <td>ENSG00000107249</td>\n",
       "      <td>ENSG00000106686,ENSG00000106688,ENSG0000010699...</td>\n",
       "    </tr>\n",
       "    <tr>\n",
       "      <th>418</th>\n",
       "      <td>Type 2 diabetes (type II diabetes mellitus)</td>\n",
       "      <td>GLIS3</td>\n",
       "      <td>AK3,CDC37L1,GLIS3,PLPP6,SLC1A1,SPATA6L</td>\n",
       "      <td>ENSG00000107249</td>\n",
       "      <td>ENSG00000106686,ENSG00000106688,ENSG0000010699...</td>\n",
       "    </tr>\n",
       "    <tr>\n",
       "      <th>419</th>\n",
       "      <td>Type 2 diabetes (type II diabetes mellitus)</td>\n",
       "      <td>GLIS3</td>\n",
       "      <td>AK3,CDC37L1,GLIS3,PLPP6,SLC1A1,SPATA6L</td>\n",
       "      <td>ENSG00000107249</td>\n",
       "      <td>ENSG00000106686,ENSG00000106688,ENSG0000010699...</td>\n",
       "    </tr>\n",
       "    <tr>\n",
       "      <th>422</th>\n",
       "      <td>Breast carcinoma</td>\n",
       "      <td>CCND1</td>\n",
       "      <td>ANO1,CCND1,ENSG00000287725,FGF19,FGF3,FGF4,LTO...</td>\n",
       "      <td>ENSG00000110092</td>\n",
       "      <td>ENSG00000075388,ENSG00000110092,ENSG0000013162...</td>\n",
       "    </tr>\n",
       "    <tr>\n",
       "      <th>423</th>\n",
       "      <td>Breast carcinoma</td>\n",
       "      <td>CCND1</td>\n",
       "      <td>ANO1,CCND1,ENSG00000287725,FGF19,FGF3,FGF4,LTO...</td>\n",
       "      <td>ENSG00000110092</td>\n",
       "      <td>ENSG00000075388,ENSG00000110092,ENSG0000013162...</td>\n",
       "    </tr>\n",
       "  </tbody>\n",
       "</table>\n",
       "<p>113 rows × 5 columns</p>\n",
       "</div>"
      ],
      "text/plain": [
       "                                     description causal_gene_symbol  \\\n",
       "133                         Hypercholesterolemia              PCSK9   \n",
       "136                      Coronary artery disease              PCSK9   \n",
       "137                      Coronary artery disease              PCSK9   \n",
       "139      High cholesterol (Hypercholesterolemia)              PCSK9   \n",
       "143                         Rheumatoid arthritis               IL6R   \n",
       "..                                           ...                ...   \n",
       "417  Type 2 diabetes (type II diabetes mellitus)              GLIS3   \n",
       "418  Type 2 diabetes (type II diabetes mellitus)              GLIS3   \n",
       "419  Type 2 diabetes (type II diabetes mellitus)              GLIS3   \n",
       "422                             Breast carcinoma              CCND1   \n",
       "423                             Breast carcinoma              CCND1   \n",
       "\n",
       "                                non_causal_gene_symbol      causal_gene  \\\n",
       "133  ACOT11,BSND,DHCR24,FAM151A,LEXM,MROH7,MROH7-TT...  ENSG00000169174   \n",
       "136  ACOT11,BSND,DHCR24,FAM151A,LEXM,MROH7,MROH7-TT...  ENSG00000169174   \n",
       "137  ACOT11,BSND,DHCR24,FAM151A,LEXM,MROH7,MROH7-TT...  ENSG00000169174   \n",
       "139  ACOT11,BSND,DHCR24,FAM151A,LEXM,MROH7,MROH7-TT...  ENSG00000169174   \n",
       "143  ADAR,AQP10,ATP8B2,C1orf43,CFAP141,CHRNB2,CREB3...  ENSG00000160712   \n",
       "..                                                 ...              ...   \n",
       "417             AK3,CDC37L1,GLIS3,PLPP6,SLC1A1,SPATA6L  ENSG00000107249   \n",
       "418             AK3,CDC37L1,GLIS3,PLPP6,SLC1A1,SPATA6L  ENSG00000107249   \n",
       "419             AK3,CDC37L1,GLIS3,PLPP6,SLC1A1,SPATA6L  ENSG00000107249   \n",
       "422  ANO1,CCND1,ENSG00000287725,FGF19,FGF3,FGF4,LTO...  ENSG00000110092   \n",
       "423  ANO1,CCND1,ENSG00000287725,FGF19,FGF3,FGF4,LTO...  ENSG00000110092   \n",
       "\n",
       "                                       non_causal_gene  \n",
       "133  ENSG00000006555,ENSG00000116133,ENSG0000014300...  \n",
       "136  ENSG00000006555,ENSG00000116133,ENSG0000014300...  \n",
       "137  ENSG00000006555,ENSG00000116133,ENSG0000014300...  \n",
       "139  ENSG00000006555,ENSG00000116133,ENSG0000014300...  \n",
       "143  ENSG00000143515,ENSG00000143543,ENSG0000014354...  \n",
       "..                                                 ...  \n",
       "417  ENSG00000106686,ENSG00000106688,ENSG0000010699...  \n",
       "418  ENSG00000106686,ENSG00000106688,ENSG0000010699...  \n",
       "419  ENSG00000106686,ENSG00000106688,ENSG0000010699...  \n",
       "422  ENSG00000075388,ENSG00000110092,ENSG0000013162...  \n",
       "423  ENSG00000075388,ENSG00000110092,ENSG0000013162...  \n",
       "\n",
       "[113 rows x 5 columns]"
      ]
     },
     "execution_count": 13,
     "metadata": {},
     "output_type": "execute_result"
    }
   ],
   "source": [
    "df[df.duplicated()]"
   ]
  },
  {
   "cell_type": "code",
   "execution_count": 14,
   "metadata": {},
   "outputs": [
    {
     "data": {
      "text/plain": [
       "(387, 5)"
      ]
     },
     "execution_count": 14,
     "metadata": {},
     "output_type": "execute_result"
    }
   ],
   "source": [
    "# Droping Duplicated Rows\n",
    "df.drop_duplicates(keep='first', inplace=True)\n",
    "df.reset_index(inplace=True, drop=True)\n",
    "df.shape"
   ]
  },
  {
   "cell_type": "markdown",
   "metadata": {},
   "source": [
    "#### Checking for number of unique Phenotypes, causal/non_causal genes"
   ]
  },
  {
   "cell_type": "code",
   "execution_count": 15,
   "metadata": {},
   "outputs": [
    {
     "name": "stdout",
     "output_type": "stream",
     "text": [
      "Number of Unique Phenotypes: 215\n",
      "Number of Unique Casual Genes (Symbol): 267\n",
      "Number of Unique Non-Causal Genes (Symbol): 291\n"
     ]
    }
   ],
   "source": [
    "# Checking for number of unique Phenotypes, caual/non_causal genes\n",
    "\n",
    "print('Number of Unique Phenotypes:', df['description'].nunique())\n",
    "print('Number of Unique Casual Genes (Symbol):', df['causal_gene_symbol'].nunique())\n",
    "print('Number of Unique Non-Causal Genes (Symbol):', df['non_causal_gene_symbol'].nunique())"
   ]
  },
  {
   "cell_type": "markdown",
   "metadata": {},
   "source": [
    "### Distribution of Causal and Non-Causal Genes"
   ]
  },
  {
   "cell_type": "code",
   "execution_count": 16,
   "metadata": {},
   "outputs": [
    {
     "data": {
      "text/plain": [
       "count                                             387\n",
       "unique                                            215\n",
       "top       Type 2 diabetes (type II diabetes mellitus)\n",
       "freq                                               38\n",
       "Name: description, dtype: object"
      ]
     },
     "execution_count": 16,
     "metadata": {},
     "output_type": "execute_result"
    }
   ],
   "source": [
    "# Phenotype overview\n",
    "\n",
    "df['description'].describe()"
   ]
  },
  {
   "cell_type": "code",
   "execution_count": 17,
   "metadata": {},
   "outputs": [
    {
     "data": {
      "text/plain": [
       "Type 2 diabetes (type II diabetes mellitus)                       38\n",
       "Breast carcinoma                                                  16\n",
       "Type 2 diabetes (adjusted for BMI) (type II diabetes mellitus)    10\n",
       "Hypertension                                                       9\n",
       "Atrial fibrillation                                                9\n",
       "Name: description, dtype: int64"
      ]
     },
     "execution_count": 17,
     "metadata": {},
     "output_type": "execute_result"
    }
   ],
   "source": [
    "# Top 5 most common Phenotypes\n",
    "\n",
    "top5_phenotypes = df['description'].value_counts().head(5)\n",
    "top5_phenotypes"
   ]
  },
  {
   "cell_type": "code",
   "execution_count": 18,
   "metadata": {},
   "outputs": [
    {
     "data": {
      "text/plain": [
       "{'Type 2 diabetes (type II diabetes mellitus)': 25,\n",
       " 'Breast carcinoma': 16,\n",
       " 'Type 2 diabetes (adjusted for BMI) (type II diabetes mellitus)': 10,\n",
       " 'Hypertension': 7,\n",
       " 'Atrial fibrillation': 6}"
      ]
     },
     "metadata": {},
     "output_type": "display_data"
    }
   ],
   "source": [
    "# Identifying Number of Causal Genes for Top 5 Phenotypes\n",
    "\n",
    "dict = {}\n",
    "for i in list(top5_phenotypes.keys()):   \n",
    "    temp = df[df['description'] == i]\n",
    "    dict[i] = len(temp.causal_gene_symbol.unique())\n",
    "\n",
    "display(dict)"
   ]
  },
  {
   "cell_type": "code",
   "execution_count": 19,
   "metadata": {},
   "outputs": [
    {
     "data": {
      "image/png": "[encoded data removed]",
      "text/plain": [
       "<Figure size 2000x600 with 1 Axes>"
      ]
     },
     "metadata": {},
     "output_type": "display_data"
    }
   ],
   "source": [
    "# Visualizing number of causal genes for top 5 phenotypes\n",
    "\n",
    "plt.figure(figsize=(20,6))\n",
    "plt.bar(dict.keys(), height=dict.values())\n",
    "plt.xlabel('Phenotype')\n",
    "plt.ylabel('No.of unique Causal gene')\n",
    "plt.title('No. of unique Causal genes per phenotypes (top 5)')\n",
    "plt.show()"
   ]
  },
  {
   "cell_type": "markdown",
   "metadata": {},
   "source": [
    "Some phenotypes have multiple associated causal and non-causal genes, so based on the above analysis, these five phenotypes dominate the dataset."
   ]
  },
  {
   "cell_type": "code",
   "execution_count": 20,
   "metadata": {},
   "outputs": [
    {
     "data": {
      "text/plain": [
       "<Axes: ylabel='Frequency'>"
      ]
     },
     "execution_count": 20,
     "metadata": {},
     "output_type": "execute_result"
    },
    {
     "data": {
      "image/png": "[encoded data removed]",
      "text/plain": [
       "<Figure size 640x480 with 1 Axes>"
      ]
     },
     "metadata": {},
     "output_type": "display_data"
    }
   ],
   "source": [
    "# Distribution of Causal Genes\n",
    "\n",
    "df['causal_gene_symbol'].value_counts().plot(kind='hist')"
   ]
  },
  {
   "cell_type": "markdown",
   "metadata": {},
   "source": [
    "Based on the causal gene distribution, there seems to be very few phenotypes that are caused by multiple genes, most of the phenotypes have one or few causal genes."
   ]
  },
  {
   "cell_type": "markdown",
   "metadata": {},
   "source": [
    "### Causal vs Non-Causal Genes"
   ]
  },
  {
   "cell_type": "code",
   "execution_count": 21,
   "metadata": {},
   "outputs": [
    {
     "data": {
      "text/plain": [
       "count    387.000000\n",
       "mean      14.963824\n",
       "std       12.035730\n",
       "min        1.000000\n",
       "25%        6.000000\n",
       "50%       12.000000\n",
       "75%       20.500000\n",
       "max       70.000000\n",
       "Name: non_causal_gene_count, dtype: float64"
      ]
     },
     "execution_count": 21,
     "metadata": {},
     "output_type": "execute_result"
    }
   ],
   "source": [
    "# Association of non-causal genes with each phenotype\n",
    "\n",
    "df['non_causal_gene_count'] = df['non_causal_gene_symbol'].apply(lambda x: len(x.split(',')))\n",
    "df['non_causal_gene_count'].describe()"
   ]
  },
  {
   "cell_type": "code",
   "execution_count": 22,
   "metadata": {},
   "outputs": [
    {
     "data": {
      "text/plain": [
       "HMGCR       9\n",
       "F2          9\n",
       "PCSK9       8\n",
       "IL5         8\n",
       "IL12B       7\n",
       "ESR1        6\n",
       "SLC22A12    5\n",
       "SLC12A3     5\n",
       "GUCY1B1     5\n",
       "PAM         4\n",
       "Name: causal_gene_symbol, dtype: int64"
      ]
     },
     "execution_count": 22,
     "metadata": {},
     "output_type": "execute_result"
    }
   ],
   "source": [
    "# Genes that occur frequently as causal\n",
    "df['causal_gene_symbol'].value_counts().head(10)"
   ]
  },
  {
   "cell_type": "markdown",
   "metadata": {},
   "source": [
    "### EDA on Embeddings"
   ]
  },
  {
   "cell_type": "markdown",
   "metadata": {},
   "source": [
    "### Importing Embedding Files"
   ]
  },
  {
   "cell_type": "code",
   "execution_count": 23,
   "metadata": {},
   "outputs": [],
   "source": [
    "# Importing Files\n",
    "\n",
    "gene_embeddings = pd.read_csv('data/gene_embeddings.csv')\n",
    "phenotype_embeddings = pd.read_csv('data/phenotype_embeddings.csv')"
   ]
  },
  {
   "cell_type": "code",
   "execution_count": 24,
   "metadata": {},
   "outputs": [],
   "source": [
    "# Dropping unnecessary columns\n",
    "\n",
    "gene_embeddings.drop(columns=['Unnamed: 0'], inplace=True)\n",
    "phenotype_embeddings.drop(columns=['Unnamed: 0'], inplace=True)"
   ]
  },
  {
   "cell_type": "code",
   "execution_count": 25,
   "metadata": {},
   "outputs": [
    {
     "data": {
      "text/html": [
       "<div>\n",
       "<style scoped>\n",
       "    .dataframe tbody tr th:only-of-type {\n",
       "        vertical-align: middle;\n",
       "    }\n",
       "\n",
       "    .dataframe tbody tr th {\n",
       "        vertical-align: top;\n",
       "    }\n",
       "\n",
       "    .dataframe thead th {\n",
       "        text-align: right;\n",
       "    }\n",
       "</style>\n",
       "<table border=\"1\" class=\"dataframe\">\n",
       "  <thead>\n",
       "    <tr style=\"text-align: right;\">\n",
       "      <th></th>\n",
       "      <th>0</th>\n",
       "      <th>gpt_description</th>\n",
       "      <th>embedding</th>\n",
       "    </tr>\n",
       "  </thead>\n",
       "  <tbody>\n",
       "    <tr>\n",
       "      <th>0</th>\n",
       "      <td>ATMIN</td>\n",
       "      <td>The ATMIN gene, also known as ATM interactor (...</td>\n",
       "      <td>[-0.01672099530696869, 0.025642508640885353, -...</td>\n",
       "    </tr>\n",
       "    <tr>\n",
       "      <th>1</th>\n",
       "      <td>BCO1</td>\n",
       "      <td>Gene BCO1, also known as beta-carotene oxygena...</td>\n",
       "      <td>[0.01961715891957283, -0.0013358700089156628, ...</td>\n",
       "    </tr>\n",
       "    <tr>\n",
       "      <th>2</th>\n",
       "      <td>C16orf46</td>\n",
       "      <td>Gene C16orf46, also known as Chromosome 16 Ope...</td>\n",
       "      <td>[-0.013213221915066242, 0.008565986528992653, ...</td>\n",
       "    </tr>\n",
       "    <tr>\n",
       "      <th>3</th>\n",
       "      <td>CDYL2</td>\n",
       "      <td>The gene CDYL2, also known as Chromodomain Y-l...</td>\n",
       "      <td>[-0.010155326686799526, 0.007696880027651787, ...</td>\n",
       "    </tr>\n",
       "    <tr>\n",
       "      <th>4</th>\n",
       "      <td>CENPN</td>\n",
       "      <td>The gene CENPN, also known as Centromere Prote...</td>\n",
       "      <td>[0.0019102469086647034, -0.01410931721329689, ...</td>\n",
       "    </tr>\n",
       "    <tr>\n",
       "      <th>...</th>\n",
       "      <td>...</td>\n",
       "      <td>...</td>\n",
       "      <td>...</td>\n",
       "    </tr>\n",
       "    <tr>\n",
       "      <th>10978</th>\n",
       "      <td>BOLA2-SMG1P6</td>\n",
       "      <td>The gene BOLA2-SMG1P6 is a fusion gene that re...</td>\n",
       "      <td>[0.025516435503959656, 0.024719441309571266, -...</td>\n",
       "    </tr>\n",
       "    <tr>\n",
       "      <th>10979</th>\n",
       "      <td>SLX1B</td>\n",
       "      <td>The SLX1B gene is a member of the SLX1 family ...</td>\n",
       "      <td>[0.021502379328012466, 0.04098100587725639, -0...</td>\n",
       "    </tr>\n",
       "    <tr>\n",
       "      <th>10980</th>\n",
       "      <td>SULT1A4</td>\n",
       "      <td>The gene SULT1A4 encodes for the enzyme sulfot...</td>\n",
       "      <td>[-0.028887486085295677, 0.015331678092479706, ...</td>\n",
       "    </tr>\n",
       "    <tr>\n",
       "      <th>10981</th>\n",
       "      <td>OR9I1</td>\n",
       "      <td>Gene OR9I1 is a member of the olfactory recept...</td>\n",
       "      <td>[-0.015196411870419979, 0.005497212056070566, ...</td>\n",
       "    </tr>\n",
       "    <tr>\n",
       "      <th>10982</th>\n",
       "      <td>SRSF3</td>\n",
       "      <td>Gene SRSF3, also known as serine/arginine-rich...</td>\n",
       "      <td>[0.020117657259106636, 0.016312958672642708, -...</td>\n",
       "    </tr>\n",
       "  </tbody>\n",
       "</table>\n",
       "<p>10983 rows × 3 columns</p>\n",
       "</div>"
      ],
      "text/plain": [
       "                  0                                    gpt_description  \\\n",
       "0             ATMIN  The ATMIN gene, also known as ATM interactor (...   \n",
       "1              BCO1  Gene BCO1, also known as beta-carotene oxygena...   \n",
       "2          C16orf46  Gene C16orf46, also known as Chromosome 16 Ope...   \n",
       "3             CDYL2  The gene CDYL2, also known as Chromodomain Y-l...   \n",
       "4             CENPN  The gene CENPN, also known as Centromere Prote...   \n",
       "...             ...                                                ...   \n",
       "10978  BOLA2-SMG1P6  The gene BOLA2-SMG1P6 is a fusion gene that re...   \n",
       "10979         SLX1B  The SLX1B gene is a member of the SLX1 family ...   \n",
       "10980       SULT1A4  The gene SULT1A4 encodes for the enzyme sulfot...   \n",
       "10981         OR9I1  Gene OR9I1 is a member of the olfactory recept...   \n",
       "10982         SRSF3  Gene SRSF3, also known as serine/arginine-rich...   \n",
       "\n",
       "                                               embedding  \n",
       "0      [-0.01672099530696869, 0.025642508640885353, -...  \n",
       "1      [0.01961715891957283, -0.0013358700089156628, ...  \n",
       "2      [-0.013213221915066242, 0.008565986528992653, ...  \n",
       "3      [-0.010155326686799526, 0.007696880027651787, ...  \n",
       "4      [0.0019102469086647034, -0.01410931721329689, ...  \n",
       "...                                                  ...  \n",
       "10978  [0.025516435503959656, 0.024719441309571266, -...  \n",
       "10979  [0.021502379328012466, 0.04098100587725639, -0...  \n",
       "10980  [-0.028887486085295677, 0.015331678092479706, ...  \n",
       "10981  [-0.015196411870419979, 0.005497212056070566, ...  \n",
       "10982  [0.020117657259106636, 0.016312958672642708, -...  \n",
       "\n",
       "[10983 rows x 3 columns]"
      ]
     },
     "metadata": {},
     "output_type": "display_data"
    }
   ],
   "source": [
    "display(gene_embeddings)"
   ]
  },
  {
   "cell_type": "code",
   "execution_count": 26,
   "metadata": {},
   "outputs": [
    {
     "data": {
      "text/html": [
       "<div>\n",
       "<style scoped>\n",
       "    .dataframe tbody tr th:only-of-type {\n",
       "        vertical-align: middle;\n",
       "    }\n",
       "\n",
       "    .dataframe tbody tr th {\n",
       "        vertical-align: top;\n",
       "    }\n",
       "\n",
       "    .dataframe thead th {\n",
       "        text-align: right;\n",
       "    }\n",
       "</style>\n",
       "<table border=\"1\" class=\"dataframe\">\n",
       "  <thead>\n",
       "    <tr style=\"text-align: right;\">\n",
       "      <th></th>\n",
       "      <th>0</th>\n",
       "      <th>gpt_description</th>\n",
       "      <th>embedding</th>\n",
       "    </tr>\n",
       "  </thead>\n",
       "  <tbody>\n",
       "    <tr>\n",
       "      <th>0</th>\n",
       "      <td>Carotenoid and tocopherol levels (beta-caroten...</td>\n",
       "      <td>Carotenoids and tocopherols are important clas...</td>\n",
       "      <td>[0.03543854132294655, -0.002083840314298868, -...</td>\n",
       "    </tr>\n",
       "    <tr>\n",
       "      <th>1</th>\n",
       "      <td>Bilirubin levels</td>\n",
       "      <td>Bilirubin is a yellow pigment that is produced...</td>\n",
       "      <td>[-0.002501995535567403, -0.03334518149495125, ...</td>\n",
       "    </tr>\n",
       "    <tr>\n",
       "      <th>2</th>\n",
       "      <td>Sphingolipid levels (SM 14:0Mol%) (sphingomyel...</td>\n",
       "      <td>Sphingolipids are a class of lipids that play ...</td>\n",
       "      <td>[-0.003154945094138384, -0.016002262011170387,...</td>\n",
       "    </tr>\n",
       "    <tr>\n",
       "      <th>3</th>\n",
       "      <td>Fasting glucose-related traits (FPG) (D-Glucose)</td>\n",
       "      <td>Fasting glucose-related traits, also known as ...</td>\n",
       "      <td>[-0.026761554181575775, 0.011279185302555561, ...</td>\n",
       "    </tr>\n",
       "    <tr>\n",
       "      <th>4</th>\n",
       "      <td>Vitamin D insufficiency (25-Hydroxyvitamin D2)</td>\n",
       "      <td>Vitamin D insufficiency, specifically referrin...</td>\n",
       "      <td>[0.004818837624043226, 0.01093713752925396, -0...</td>\n",
       "    </tr>\n",
       "    <tr>\n",
       "      <th>...</th>\n",
       "      <td>...</td>\n",
       "      <td>...</td>\n",
       "      <td>...</td>\n",
       "    </tr>\n",
       "    <tr>\n",
       "      <th>954</th>\n",
       "      <td>Platelet forward scatter</td>\n",
       "      <td>Platelet forward scatter is a measurement used...</td>\n",
       "      <td>[-0.029527518898248672, -0.002429093699902296,...</td>\n",
       "    </tr>\n",
       "    <tr>\n",
       "      <th>955</th>\n",
       "      <td>Platelet large cell ratio</td>\n",
       "      <td>The platelet large cell ratio is a measure of ...</td>\n",
       "      <td>[-0.01740766316652298, -0.02192745730280876, -...</td>\n",
       "    </tr>\n",
       "    <tr>\n",
       "      <th>956</th>\n",
       "      <td>Diverticular disease</td>\n",
       "      <td>Diverticular disease is a common condition cha...</td>\n",
       "      <td>[0.010556966066360474, 0.013189040124416351, -...</td>\n",
       "    </tr>\n",
       "    <tr>\n",
       "      <th>957</th>\n",
       "      <td>Metabolite levels (cysteine-glutathione disulf...</td>\n",
       "      <td>Metabolite levels, specifically cysteine-gluta...</td>\n",
       "      <td>[-0.01695943996310234, -0.0002931176859419793,...</td>\n",
       "    </tr>\n",
       "    <tr>\n",
       "      <th>958</th>\n",
       "      <td>Metabolite levels (thyroxine)</td>\n",
       "      <td>Thyroxine, also known as T4, is a crucial horm...</td>\n",
       "      <td>[-0.02427096478641033, -0.013923270627856255, ...</td>\n",
       "    </tr>\n",
       "  </tbody>\n",
       "</table>\n",
       "<p>959 rows × 3 columns</p>\n",
       "</div>"
      ],
      "text/plain": [
       "                                                     0  \\\n",
       "0    Carotenoid and tocopherol levels (beta-caroten...   \n",
       "1                                     Bilirubin levels   \n",
       "2    Sphingolipid levels (SM 14:0Mol%) (sphingomyel...   \n",
       "3     Fasting glucose-related traits (FPG) (D-Glucose)   \n",
       "4       Vitamin D insufficiency (25-Hydroxyvitamin D2)   \n",
       "..                                                 ...   \n",
       "954                           Platelet forward scatter   \n",
       "955                          Platelet large cell ratio   \n",
       "956                               Diverticular disease   \n",
       "957  Metabolite levels (cysteine-glutathione disulf...   \n",
       "958                      Metabolite levels (thyroxine)   \n",
       "\n",
       "                                       gpt_description  \\\n",
       "0    Carotenoids and tocopherols are important clas...   \n",
       "1    Bilirubin is a yellow pigment that is produced...   \n",
       "2    Sphingolipids are a class of lipids that play ...   \n",
       "3    Fasting glucose-related traits, also known as ...   \n",
       "4    Vitamin D insufficiency, specifically referrin...   \n",
       "..                                                 ...   \n",
       "954  Platelet forward scatter is a measurement used...   \n",
       "955  The platelet large cell ratio is a measure of ...   \n",
       "956  Diverticular disease is a common condition cha...   \n",
       "957  Metabolite levels, specifically cysteine-gluta...   \n",
       "958  Thyroxine, also known as T4, is a crucial horm...   \n",
       "\n",
       "                                             embedding  \n",
       "0    [0.03543854132294655, -0.002083840314298868, -...  \n",
       "1    [-0.002501995535567403, -0.03334518149495125, ...  \n",
       "2    [-0.003154945094138384, -0.016002262011170387,...  \n",
       "3    [-0.026761554181575775, 0.011279185302555561, ...  \n",
       "4    [0.004818837624043226, 0.01093713752925396, -0...  \n",
       "..                                                 ...  \n",
       "954  [-0.029527518898248672, -0.002429093699902296,...  \n",
       "955  [-0.01740766316652298, -0.02192745730280876, -...  \n",
       "956  [0.010556966066360474, 0.013189040124416351, -...  \n",
       "957  [-0.01695943996310234, -0.0002931176859419793,...  \n",
       "958  [-0.02427096478641033, -0.013923270627856255, ...  \n",
       "\n",
       "[959 rows x 3 columns]"
      ]
     },
     "metadata": {},
     "output_type": "display_data"
    }
   ],
   "source": [
    "display(phenotype_embeddings)"
   ]
  },
  {
   "cell_type": "code",
   "execution_count": 27,
   "metadata": {},
   "outputs": [],
   "source": [
    "# Merging Gene Embeddings and Phenotype Embeddings to the dataframe\n",
    "\n",
    "df = df.merge(gene_embeddings, left_on='causal_gene_symbol', right_on='0', how='left')\n",
    "df = df.merge(phenotype_embeddings, left_on='description', right_on='0', how='left')"
   ]
  },
  {
   "cell_type": "code",
   "execution_count": 28,
   "metadata": {},
   "outputs": [
    {
     "data": {
      "text/html": [
       "<div>\n",
       "<style scoped>\n",
       "    .dataframe tbody tr th:only-of-type {\n",
       "        vertical-align: middle;\n",
       "    }\n",
       "\n",
       "    .dataframe tbody tr th {\n",
       "        vertical-align: top;\n",
       "    }\n",
       "\n",
       "    .dataframe thead th {\n",
       "        text-align: right;\n",
       "    }\n",
       "</style>\n",
       "<table border=\"1\" class=\"dataframe\">\n",
       "  <thead>\n",
       "    <tr style=\"text-align: right;\">\n",
       "      <th></th>\n",
       "      <th>description</th>\n",
       "      <th>causal_gene_symbol</th>\n",
       "      <th>non_causal_gene_symbol</th>\n",
       "      <th>causal_gene</th>\n",
       "      <th>non_causal_gene</th>\n",
       "      <th>non_causal_gene_count</th>\n",
       "      <th>0_x</th>\n",
       "      <th>gpt_description_x</th>\n",
       "      <th>embedding_x</th>\n",
       "      <th>0_y</th>\n",
       "      <th>gpt_description_y</th>\n",
       "      <th>embedding_y</th>\n",
       "    </tr>\n",
       "  </thead>\n",
       "  <tbody>\n",
       "    <tr>\n",
       "      <th>0</th>\n",
       "      <td>Bilirubin levels</td>\n",
       "      <td>UGT1A8</td>\n",
       "      <td>ATG16L1,DGKD,HJURP,MROH2A,SAG,SPP2,TRPM8,UGT1A...</td>\n",
       "      <td>ENSG00000242366</td>\n",
       "      <td>ENSG00000072080,ENSG00000077044,ENSG0000008597...</td>\n",
       "      <td>17</td>\n",
       "      <td>UGT1A8</td>\n",
       "      <td>The gene UGT1A8 belongs to the UDP-glucuronosy...</td>\n",
       "      <td>[-0.019281543791294098, -0.005337069276720285,...</td>\n",
       "      <td>Bilirubin levels</td>\n",
       "      <td>Bilirubin is a yellow pigment that is produced...</td>\n",
       "      <td>[-0.002501995535567403, -0.03334518149495125, ...</td>\n",
       "    </tr>\n",
       "    <tr>\n",
       "      <th>1</th>\n",
       "      <td>Bilirubin levels</td>\n",
       "      <td>G6PD</td>\n",
       "      <td>ARHGAP4,ATP6AP1,AVPR2,CTAG1A,CTAG1B,CTAG2,DKC1...</td>\n",
       "      <td>ENSG00000160211</td>\n",
       "      <td>ENSG00000007350,ENSG00000013563,ENSG0000006784...</td>\n",
       "      <td>39</td>\n",
       "      <td>G6PD</td>\n",
       "      <td>The gene G6PD, also known as glucose-6-phospha...</td>\n",
       "      <td>[-0.02900269255042076, 0.053225744515657425, 0...</td>\n",
       "      <td>Bilirubin levels</td>\n",
       "      <td>Bilirubin is a yellow pigment that is produced...</td>\n",
       "      <td>[-0.002501995535567403, -0.03334518149495125, ...</td>\n",
       "    </tr>\n",
       "    <tr>\n",
       "      <th>2</th>\n",
       "      <td>Sphingolipid levels (SM 14:0Mol%) (sphingomyel...</td>\n",
       "      <td>SGPP1</td>\n",
       "      <td>ESR2,GPHB5,PPP2R5E,RHOJ,SGPP1,SYNE2,WDR89</td>\n",
       "      <td>ENSG00000126821</td>\n",
       "      <td>ENSG00000054654,ENSG00000126785,ENSG0000012682...</td>\n",
       "      <td>7</td>\n",
       "      <td>SGPP1</td>\n",
       "      <td>The SGPP1 gene, also known as Sphingosine-1-ph...</td>\n",
       "      <td>[-0.011303119361400604, 0.028949962928891182, ...</td>\n",
       "      <td>Sphingolipid levels (SM 14:0Mol%) (sphingomyel...</td>\n",
       "      <td>Sphingolipids are a class of lipids that play ...</td>\n",
       "      <td>[-0.003154945094138384, -0.016002262011170387,...</td>\n",
       "    </tr>\n",
       "    <tr>\n",
       "      <th>3</th>\n",
       "      <td>Vitamin D insufficiency (25-Hydroxyvitamin D2)</td>\n",
       "      <td>GC</td>\n",
       "      <td>GC,NPFFR2,SLC4A4</td>\n",
       "      <td>ENSG00000145321</td>\n",
       "      <td>ENSG00000056291,ENSG00000080493,ENSG00000145321</td>\n",
       "      <td>3</td>\n",
       "      <td>GC</td>\n",
       "      <td>The gene GC, also known as the group-specific ...</td>\n",
       "      <td>[0.04094875603914261, 0.009499085135757923, -0...</td>\n",
       "      <td>Vitamin D insufficiency (25-Hydroxyvitamin D2)</td>\n",
       "      <td>Vitamin D insufficiency, specifically referrin...</td>\n",
       "      <td>[0.004818837624043226, 0.01093713752925396, -0...</td>\n",
       "    </tr>\n",
       "    <tr>\n",
       "      <th>4</th>\n",
       "      <td>Phosphorus levels</td>\n",
       "      <td>FGF23</td>\n",
       "      <td>AKAP3,C12orf4,CCND2,DYRK4,ENSG00000255639,ENSG...</td>\n",
       "      <td>ENSG00000118972</td>\n",
       "      <td>ENSG00000010219,ENSG00000047621,ENSG0000007823...</td>\n",
       "      <td>15</td>\n",
       "      <td>FGF23</td>\n",
       "      <td>The gene FGF23 encodes a protein called fibrob...</td>\n",
       "      <td>[0.0038235990796238184, 0.03755037859082222, -...</td>\n",
       "      <td>Phosphorus levels</td>\n",
       "      <td>Phosphorus is an essential mineral that plays ...</td>\n",
       "      <td>[-0.00845419429242611, -0.008621890097856522, ...</td>\n",
       "    </tr>\n",
       "  </tbody>\n",
       "</table>\n",
       "</div>"
      ],
      "text/plain": [
       "                                         description causal_gene_symbol  \\\n",
       "0                                   Bilirubin levels             UGT1A8   \n",
       "1                                   Bilirubin levels               G6PD   \n",
       "2  Sphingolipid levels (SM 14:0Mol%) (sphingomyel...              SGPP1   \n",
       "3     Vitamin D insufficiency (25-Hydroxyvitamin D2)                 GC   \n",
       "4                                  Phosphorus levels              FGF23   \n",
       "\n",
       "                              non_causal_gene_symbol      causal_gene  \\\n",
       "0  ATG16L1,DGKD,HJURP,MROH2A,SAG,SPP2,TRPM8,UGT1A...  ENSG00000242366   \n",
       "1  ARHGAP4,ATP6AP1,AVPR2,CTAG1A,CTAG1B,CTAG2,DKC1...  ENSG00000160211   \n",
       "2          ESR2,GPHB5,PPP2R5E,RHOJ,SGPP1,SYNE2,WDR89  ENSG00000126821   \n",
       "3                                   GC,NPFFR2,SLC4A4  ENSG00000145321   \n",
       "4  AKAP3,C12orf4,CCND2,DYRK4,ENSG00000255639,ENSG...  ENSG00000118972   \n",
       "\n",
       "                                     non_causal_gene  non_causal_gene_count  \\\n",
       "0  ENSG00000072080,ENSG00000077044,ENSG0000008597...                     17   \n",
       "1  ENSG00000007350,ENSG00000013563,ENSG0000006784...                     39   \n",
       "2  ENSG00000054654,ENSG00000126785,ENSG0000012682...                      7   \n",
       "3    ENSG00000056291,ENSG00000080493,ENSG00000145321                      3   \n",
       "4  ENSG00000010219,ENSG00000047621,ENSG0000007823...                     15   \n",
       "\n",
       "      0_x                                  gpt_description_x  \\\n",
       "0  UGT1A8  The gene UGT1A8 belongs to the UDP-glucuronosy...   \n",
       "1    G6PD  The gene G6PD, also known as glucose-6-phospha...   \n",
       "2   SGPP1  The SGPP1 gene, also known as Sphingosine-1-ph...   \n",
       "3      GC  The gene GC, also known as the group-specific ...   \n",
       "4   FGF23  The gene FGF23 encodes a protein called fibrob...   \n",
       "\n",
       "                                         embedding_x  \\\n",
       "0  [-0.019281543791294098, -0.005337069276720285,...   \n",
       "1  [-0.02900269255042076, 0.053225744515657425, 0...   \n",
       "2  [-0.011303119361400604, 0.028949962928891182, ...   \n",
       "3  [0.04094875603914261, 0.009499085135757923, -0...   \n",
       "4  [0.0038235990796238184, 0.03755037859082222, -...   \n",
       "\n",
       "                                                 0_y  \\\n",
       "0                                   Bilirubin levels   \n",
       "1                                   Bilirubin levels   \n",
       "2  Sphingolipid levels (SM 14:0Mol%) (sphingomyel...   \n",
       "3     Vitamin D insufficiency (25-Hydroxyvitamin D2)   \n",
       "4                                  Phosphorus levels   \n",
       "\n",
       "                                   gpt_description_y  \\\n",
       "0  Bilirubin is a yellow pigment that is produced...   \n",
       "1  Bilirubin is a yellow pigment that is produced...   \n",
       "2  Sphingolipids are a class of lipids that play ...   \n",
       "3  Vitamin D insufficiency, specifically referrin...   \n",
       "4  Phosphorus is an essential mineral that plays ...   \n",
       "\n",
       "                                         embedding_y  \n",
       "0  [-0.002501995535567403, -0.03334518149495125, ...  \n",
       "1  [-0.002501995535567403, -0.03334518149495125, ...  \n",
       "2  [-0.003154945094138384, -0.016002262011170387,...  \n",
       "3  [0.004818837624043226, 0.01093713752925396, -0...  \n",
       "4  [-0.00845419429242611, -0.008621890097856522, ...  "
      ]
     },
     "execution_count": 28,
     "metadata": {},
     "output_type": "execute_result"
    }
   ],
   "source": [
    "df.head()"
   ]
  },
  {
   "cell_type": "markdown",
   "metadata": {},
   "source": [
    "#### Cleaning Data"
   ]
  },
  {
   "cell_type": "code",
   "execution_count": 29,
   "metadata": {},
   "outputs": [],
   "source": [
    "# Dropping Unnecessary columns\n",
    "\n",
    "df.drop(columns=['0_x', '0_y'], inplace=True)"
   ]
  },
  {
   "cell_type": "code",
   "execution_count": 30,
   "metadata": {},
   "outputs": [],
   "source": [
    "# Renaming columns for better readability\n",
    "\n",
    "df.rename(columns={'gpt_description_x': 'gene_gpt_description', 'embedding_x':'causal_gene_embedding', 'gpt_description_y':'phenotype_gpt_description', 'embedding_y':'phenotype_embedding'}, inplace=True)"
   ]
  },
  {
   "cell_type": "code",
   "execution_count": 31,
   "metadata": {},
   "outputs": [],
   "source": [
    "# Converting Data into proper format\n",
    "\n",
    "df['causal_gene_embedding'] = df['causal_gene_embedding'].str.replace('[', '').str.replace(']', '').str.replace(' ','').str.split(',')\n",
    "df['phenotype_embedding'] = df['phenotype_embedding'].str.replace('[', '').str.replace(']', '').str.replace(' ','').str.split(',')"
   ]
  },
  {
   "cell_type": "code",
   "execution_count": 32,
   "metadata": {},
   "outputs": [
    {
     "data": {
      "text/html": [
       "<div>\n",
       "<style scoped>\n",
       "    .dataframe tbody tr th:only-of-type {\n",
       "        vertical-align: middle;\n",
       "    }\n",
       "\n",
       "    .dataframe tbody tr th {\n",
       "        vertical-align: top;\n",
       "    }\n",
       "\n",
       "    .dataframe thead th {\n",
       "        text-align: right;\n",
       "    }\n",
       "</style>\n",
       "<table border=\"1\" class=\"dataframe\">\n",
       "  <thead>\n",
       "    <tr style=\"text-align: right;\">\n",
       "      <th></th>\n",
       "      <th>description</th>\n",
       "      <th>causal_gene_symbol</th>\n",
       "      <th>non_causal_gene_symbol</th>\n",
       "      <th>causal_gene</th>\n",
       "      <th>non_causal_gene</th>\n",
       "      <th>non_causal_gene_count</th>\n",
       "      <th>gene_gpt_description</th>\n",
       "      <th>causal_gene_embedding</th>\n",
       "      <th>phenotype_gpt_description</th>\n",
       "      <th>phenotype_embedding</th>\n",
       "    </tr>\n",
       "  </thead>\n",
       "  <tbody>\n",
       "    <tr>\n",
       "      <th>0</th>\n",
       "      <td>Bilirubin levels</td>\n",
       "      <td>UGT1A8</td>\n",
       "      <td>ATG16L1,DGKD,HJURP,MROH2A,SAG,SPP2,TRPM8,UGT1A...</td>\n",
       "      <td>ENSG00000242366</td>\n",
       "      <td>ENSG00000072080,ENSG00000077044,ENSG0000008597...</td>\n",
       "      <td>17</td>\n",
       "      <td>The gene UGT1A8 belongs to the UDP-glucuronosy...</td>\n",
       "      <td>[-0.019281543791294098, -0.005337069276720285,...</td>\n",
       "      <td>Bilirubin is a yellow pigment that is produced...</td>\n",
       "      <td>[-0.002501995535567403, -0.03334518149495125, ...</td>\n",
       "    </tr>\n",
       "    <tr>\n",
       "      <th>1</th>\n",
       "      <td>Bilirubin levels</td>\n",
       "      <td>G6PD</td>\n",
       "      <td>ARHGAP4,ATP6AP1,AVPR2,CTAG1A,CTAG1B,CTAG2,DKC1...</td>\n",
       "      <td>ENSG00000160211</td>\n",
       "      <td>ENSG00000007350,ENSG00000013563,ENSG0000006784...</td>\n",
       "      <td>39</td>\n",
       "      <td>The gene G6PD, also known as glucose-6-phospha...</td>\n",
       "      <td>[-0.02900269255042076, 0.053225744515657425, 0...</td>\n",
       "      <td>Bilirubin is a yellow pigment that is produced...</td>\n",
       "      <td>[-0.002501995535567403, -0.03334518149495125, ...</td>\n",
       "    </tr>\n",
       "    <tr>\n",
       "      <th>2</th>\n",
       "      <td>Sphingolipid levels (SM 14:0Mol%) (sphingomyel...</td>\n",
       "      <td>SGPP1</td>\n",
       "      <td>ESR2,GPHB5,PPP2R5E,RHOJ,SGPP1,SYNE2,WDR89</td>\n",
       "      <td>ENSG00000126821</td>\n",
       "      <td>ENSG00000054654,ENSG00000126785,ENSG0000012682...</td>\n",
       "      <td>7</td>\n",
       "      <td>The SGPP1 gene, also known as Sphingosine-1-ph...</td>\n",
       "      <td>[-0.011303119361400604, 0.028949962928891182, ...</td>\n",
       "      <td>Sphingolipids are a class of lipids that play ...</td>\n",
       "      <td>[-0.003154945094138384, -0.016002262011170387,...</td>\n",
       "    </tr>\n",
       "    <tr>\n",
       "      <th>3</th>\n",
       "      <td>Vitamin D insufficiency (25-Hydroxyvitamin D2)</td>\n",
       "      <td>GC</td>\n",
       "      <td>GC,NPFFR2,SLC4A4</td>\n",
       "      <td>ENSG00000145321</td>\n",
       "      <td>ENSG00000056291,ENSG00000080493,ENSG00000145321</td>\n",
       "      <td>3</td>\n",
       "      <td>The gene GC, also known as the group-specific ...</td>\n",
       "      <td>[0.04094875603914261, 0.009499085135757923, -0...</td>\n",
       "      <td>Vitamin D insufficiency, specifically referrin...</td>\n",
       "      <td>[0.004818837624043226, 0.01093713752925396, -0...</td>\n",
       "    </tr>\n",
       "    <tr>\n",
       "      <th>4</th>\n",
       "      <td>Phosphorus levels</td>\n",
       "      <td>FGF23</td>\n",
       "      <td>AKAP3,C12orf4,CCND2,DYRK4,ENSG00000255639,ENSG...</td>\n",
       "      <td>ENSG00000118972</td>\n",
       "      <td>ENSG00000010219,ENSG00000047621,ENSG0000007823...</td>\n",
       "      <td>15</td>\n",
       "      <td>The gene FGF23 encodes a protein called fibrob...</td>\n",
       "      <td>[0.0038235990796238184, 0.03755037859082222, -...</td>\n",
       "      <td>Phosphorus is an essential mineral that plays ...</td>\n",
       "      <td>[-0.00845419429242611, -0.008621890097856522, ...</td>\n",
       "    </tr>\n",
       "  </tbody>\n",
       "</table>\n",
       "</div>"
      ],
      "text/plain": [
       "                                         description causal_gene_symbol  \\\n",
       "0                                   Bilirubin levels             UGT1A8   \n",
       "1                                   Bilirubin levels               G6PD   \n",
       "2  Sphingolipid levels (SM 14:0Mol%) (sphingomyel...              SGPP1   \n",
       "3     Vitamin D insufficiency (25-Hydroxyvitamin D2)                 GC   \n",
       "4                                  Phosphorus levels              FGF23   \n",
       "\n",
       "                              non_causal_gene_symbol      causal_gene  \\\n",
       "0  ATG16L1,DGKD,HJURP,MROH2A,SAG,SPP2,TRPM8,UGT1A...  ENSG00000242366   \n",
       "1  ARHGAP4,ATP6AP1,AVPR2,CTAG1A,CTAG1B,CTAG2,DKC1...  ENSG00000160211   \n",
       "2          ESR2,GPHB5,PPP2R5E,RHOJ,SGPP1,SYNE2,WDR89  ENSG00000126821   \n",
       "3                                   GC,NPFFR2,SLC4A4  ENSG00000145321   \n",
       "4  AKAP3,C12orf4,CCND2,DYRK4,ENSG00000255639,ENSG...  ENSG00000118972   \n",
       "\n",
       "                                     non_causal_gene  non_causal_gene_count  \\\n",
       "0  ENSG00000072080,ENSG00000077044,ENSG0000008597...                     17   \n",
       "1  ENSG00000007350,ENSG00000013563,ENSG0000006784...                     39   \n",
       "2  ENSG00000054654,ENSG00000126785,ENSG0000012682...                      7   \n",
       "3    ENSG00000056291,ENSG00000080493,ENSG00000145321                      3   \n",
       "4  ENSG00000010219,ENSG00000047621,ENSG0000007823...                     15   \n",
       "\n",
       "                                gene_gpt_description  \\\n",
       "0  The gene UGT1A8 belongs to the UDP-glucuronosy...   \n",
       "1  The gene G6PD, also known as glucose-6-phospha...   \n",
       "2  The SGPP1 gene, also known as Sphingosine-1-ph...   \n",
       "3  The gene GC, also known as the group-specific ...   \n",
       "4  The gene FGF23 encodes a protein called fibrob...   \n",
       "\n",
       "                               causal_gene_embedding  \\\n",
       "0  [-0.019281543791294098, -0.005337069276720285,...   \n",
       "1  [-0.02900269255042076, 0.053225744515657425, 0...   \n",
       "2  [-0.011303119361400604, 0.028949962928891182, ...   \n",
       "3  [0.04094875603914261, 0.009499085135757923, -0...   \n",
       "4  [0.0038235990796238184, 0.03755037859082222, -...   \n",
       "\n",
       "                           phenotype_gpt_description  \\\n",
       "0  Bilirubin is a yellow pigment that is produced...   \n",
       "1  Bilirubin is a yellow pigment that is produced...   \n",
       "2  Sphingolipids are a class of lipids that play ...   \n",
       "3  Vitamin D insufficiency, specifically referrin...   \n",
       "4  Phosphorus is an essential mineral that plays ...   \n",
       "\n",
       "                                 phenotype_embedding  \n",
       "0  [-0.002501995535567403, -0.03334518149495125, ...  \n",
       "1  [-0.002501995535567403, -0.03334518149495125, ...  \n",
       "2  [-0.003154945094138384, -0.016002262011170387,...  \n",
       "3  [0.004818837624043226, 0.01093713752925396, -0...  \n",
       "4  [-0.00845419429242611, -0.008621890097856522, ...  "
      ]
     },
     "execution_count": 32,
     "metadata": {},
     "output_type": "execute_result"
    }
   ],
   "source": [
    "df.head()"
   ]
  },
  {
   "cell_type": "code",
   "execution_count": 33,
   "metadata": {},
   "outputs": [
    {
     "data": {
      "text/plain": [
       "description                   0\n",
       "causal_gene_symbol            0\n",
       "non_causal_gene_symbol        0\n",
       "causal_gene                   0\n",
       "non_causal_gene               0\n",
       "non_causal_gene_count         0\n",
       "gene_gpt_description          0\n",
       "causal_gene_embedding         0\n",
       "phenotype_gpt_description    22\n",
       "phenotype_embedding          22\n",
       "dtype: int64"
      ]
     },
     "execution_count": 33,
     "metadata": {},
     "output_type": "execute_result"
    }
   ],
   "source": [
    "# Checking for Missing Values\n",
    "\n",
    "df.isnull().sum()"
   ]
  },
  {
   "cell_type": "code",
   "execution_count": 34,
   "metadata": {},
   "outputs": [],
   "source": [
    "# Dropping null values\n",
    "\n",
    "df.dropna(inplace=True)\n",
    "df.reset_index(inplace=True, drop=True)"
   ]
  },
  {
   "cell_type": "markdown",
   "metadata": {},
   "source": [
    "##### Applying Dimension Reduction methods for further analysis"
   ]
  },
  {
   "cell_type": "code",
   "execution_count": 35,
   "metadata": {},
   "outputs": [],
   "source": [
    "# Applying Principal Component Analysis\n",
    "\n",
    "from sklearn.decomposition import PCA\n",
    "pca = PCA(n_components=2)\n",
    "\n",
    "reduced_embeddings = pca.fit_transform(df['causal_gene_embedding'].to_list())\n",
    "df['causal_gene_embedding'] = reduced_embeddings.tolist()\n",
    "\n",
    "reduced_embeddings = pca.fit_transform(df['phenotype_embedding'].to_list())\n",
    "df['phenotype_embedding'] = reduced_embeddings.tolist()"
   ]
  },
  {
   "cell_type": "code",
   "execution_count": 36,
   "metadata": {},
   "outputs": [
    {
     "data": {
      "text/html": [
       "<div>\n",
       "<style scoped>\n",
       "    .dataframe tbody tr th:only-of-type {\n",
       "        vertical-align: middle;\n",
       "    }\n",
       "\n",
       "    .dataframe tbody tr th {\n",
       "        vertical-align: top;\n",
       "    }\n",
       "\n",
       "    .dataframe thead th {\n",
       "        text-align: right;\n",
       "    }\n",
       "</style>\n",
       "<table border=\"1\" class=\"dataframe\">\n",
       "  <thead>\n",
       "    <tr style=\"text-align: right;\">\n",
       "      <th></th>\n",
       "      <th>description</th>\n",
       "      <th>causal_gene_symbol</th>\n",
       "      <th>non_causal_gene_symbol</th>\n",
       "      <th>causal_gene</th>\n",
       "      <th>non_causal_gene</th>\n",
       "      <th>non_causal_gene_count</th>\n",
       "      <th>gene_gpt_description</th>\n",
       "      <th>causal_gene_embedding</th>\n",
       "      <th>phenotype_gpt_description</th>\n",
       "      <th>phenotype_embedding</th>\n",
       "    </tr>\n",
       "  </thead>\n",
       "  <tbody>\n",
       "    <tr>\n",
       "      <th>0</th>\n",
       "      <td>Bilirubin levels</td>\n",
       "      <td>UGT1A8</td>\n",
       "      <td>ATG16L1,DGKD,HJURP,MROH2A,SAG,SPP2,TRPM8,UGT1A...</td>\n",
       "      <td>ENSG00000242366</td>\n",
       "      <td>ENSG00000072080,ENSG00000077044,ENSG0000008597...</td>\n",
       "      <td>17</td>\n",
       "      <td>The gene UGT1A8 belongs to the UDP-glucuronosy...</td>\n",
       "      <td>[-0.151290019111138, -0.09900812747591188]</td>\n",
       "      <td>Bilirubin is a yellow pigment that is produced...</td>\n",
       "      <td>[-0.1820697499272254, -0.11528358566852265]</td>\n",
       "    </tr>\n",
       "    <tr>\n",
       "      <th>1</th>\n",
       "      <td>Bilirubin levels</td>\n",
       "      <td>G6PD</td>\n",
       "      <td>ARHGAP4,ATP6AP1,AVPR2,CTAG1A,CTAG1B,CTAG2,DKC1...</td>\n",
       "      <td>ENSG00000160211</td>\n",
       "      <td>ENSG00000007350,ENSG00000013563,ENSG0000006784...</td>\n",
       "      <td>39</td>\n",
       "      <td>The gene G6PD, also known as glucose-6-phospha...</td>\n",
       "      <td>[-0.06833293980188676, -0.02553408202213633]</td>\n",
       "      <td>Bilirubin is a yellow pigment that is produced...</td>\n",
       "      <td>[-0.18206974992722488, -0.11528358566852065]</td>\n",
       "    </tr>\n",
       "    <tr>\n",
       "      <th>2</th>\n",
       "      <td>Sphingolipid levels (SM 14:0Mol%) (sphingomyel...</td>\n",
       "      <td>SGPP1</td>\n",
       "      <td>ESR2,GPHB5,PPP2R5E,RHOJ,SGPP1,SYNE2,WDR89</td>\n",
       "      <td>ENSG00000126821</td>\n",
       "      <td>ENSG00000054654,ENSG00000126785,ENSG0000012682...</td>\n",
       "      <td>7</td>\n",
       "      <td>The SGPP1 gene, also known as Sphingosine-1-ph...</td>\n",
       "      <td>[-0.11680610628160533, 0.01797285456070259]</td>\n",
       "      <td>Sphingolipids are a class of lipids that play ...</td>\n",
       "      <td>[-0.2574174937108582, -0.142658955683318]</td>\n",
       "    </tr>\n",
       "    <tr>\n",
       "      <th>3</th>\n",
       "      <td>Vitamin D insufficiency (25-Hydroxyvitamin D2)</td>\n",
       "      <td>GC</td>\n",
       "      <td>GC,NPFFR2,SLC4A4</td>\n",
       "      <td>ENSG00000145321</td>\n",
       "      <td>ENSG00000056291,ENSG00000080493,ENSG00000145321</td>\n",
       "      <td>3</td>\n",
       "      <td>The gene GC, also known as the group-specific ...</td>\n",
       "      <td>[0.0627673155035477, 0.04571047997600332]</td>\n",
       "      <td>Vitamin D insufficiency, specifically referrin...</td>\n",
       "      <td>[-0.11293725914211786, -0.1853394285763402]</td>\n",
       "    </tr>\n",
       "    <tr>\n",
       "      <th>4</th>\n",
       "      <td>Phosphorus levels</td>\n",
       "      <td>FGF23</td>\n",
       "      <td>AKAP3,C12orf4,CCND2,DYRK4,ENSG00000255639,ENSG...</td>\n",
       "      <td>ENSG00000118972</td>\n",
       "      <td>ENSG00000010219,ENSG00000047621,ENSG0000007823...</td>\n",
       "      <td>15</td>\n",
       "      <td>The gene FGF23 encodes a protein called fibrob...</td>\n",
       "      <td>[0.040922551447732776, -0.0006576377046954525]</td>\n",
       "      <td>Phosphorus is an essential mineral that plays ...</td>\n",
       "      <td>[-0.20361385284417927, -0.08258149516482377]</td>\n",
       "    </tr>\n",
       "  </tbody>\n",
       "</table>\n",
       "</div>"
      ],
      "text/plain": [
       "                                         description causal_gene_symbol  \\\n",
       "0                                   Bilirubin levels             UGT1A8   \n",
       "1                                   Bilirubin levels               G6PD   \n",
       "2  Sphingolipid levels (SM 14:0Mol%) (sphingomyel...              SGPP1   \n",
       "3     Vitamin D insufficiency (25-Hydroxyvitamin D2)                 GC   \n",
       "4                                  Phosphorus levels              FGF23   \n",
       "\n",
       "                              non_causal_gene_symbol      causal_gene  \\\n",
       "0  ATG16L1,DGKD,HJURP,MROH2A,SAG,SPP2,TRPM8,UGT1A...  ENSG00000242366   \n",
       "1  ARHGAP4,ATP6AP1,AVPR2,CTAG1A,CTAG1B,CTAG2,DKC1...  ENSG00000160211   \n",
       "2          ESR2,GPHB5,PPP2R5E,RHOJ,SGPP1,SYNE2,WDR89  ENSG00000126821   \n",
       "3                                   GC,NPFFR2,SLC4A4  ENSG00000145321   \n",
       "4  AKAP3,C12orf4,CCND2,DYRK4,ENSG00000255639,ENSG...  ENSG00000118972   \n",
       "\n",
       "                                     non_causal_gene  non_causal_gene_count  \\\n",
       "0  ENSG00000072080,ENSG00000077044,ENSG0000008597...                     17   \n",
       "1  ENSG00000007350,ENSG00000013563,ENSG0000006784...                     39   \n",
       "2  ENSG00000054654,ENSG00000126785,ENSG0000012682...                      7   \n",
       "3    ENSG00000056291,ENSG00000080493,ENSG00000145321                      3   \n",
       "4  ENSG00000010219,ENSG00000047621,ENSG0000007823...                     15   \n",
       "\n",
       "                                gene_gpt_description  \\\n",
       "0  The gene UGT1A8 belongs to the UDP-glucuronosy...   \n",
       "1  The gene G6PD, also known as glucose-6-phospha...   \n",
       "2  The SGPP1 gene, also known as Sphingosine-1-ph...   \n",
       "3  The gene GC, also known as the group-specific ...   \n",
       "4  The gene FGF23 encodes a protein called fibrob...   \n",
       "\n",
       "                            causal_gene_embedding  \\\n",
       "0      [-0.151290019111138, -0.09900812747591188]   \n",
       "1    [-0.06833293980188676, -0.02553408202213633]   \n",
       "2     [-0.11680610628160533, 0.01797285456070259]   \n",
       "3       [0.0627673155035477, 0.04571047997600332]   \n",
       "4  [0.040922551447732776, -0.0006576377046954525]   \n",
       "\n",
       "                           phenotype_gpt_description  \\\n",
       "0  Bilirubin is a yellow pigment that is produced...   \n",
       "1  Bilirubin is a yellow pigment that is produced...   \n",
       "2  Sphingolipids are a class of lipids that play ...   \n",
       "3  Vitamin D insufficiency, specifically referrin...   \n",
       "4  Phosphorus is an essential mineral that plays ...   \n",
       "\n",
       "                            phenotype_embedding  \n",
       "0   [-0.1820697499272254, -0.11528358566852265]  \n",
       "1  [-0.18206974992722488, -0.11528358566852065]  \n",
       "2     [-0.2574174937108582, -0.142658955683318]  \n",
       "3   [-0.11293725914211786, -0.1853394285763402]  \n",
       "4  [-0.20361385284417927, -0.08258149516482377]  "
      ]
     },
     "execution_count": 36,
     "metadata": {},
     "output_type": "execute_result"
    }
   ],
   "source": [
    "df.head()"
   ]
  },
  {
   "cell_type": "markdown",
   "metadata": {},
   "source": [
    "##### Compiling embeddings for non-causal genes"
   ]
  },
  {
   "cell_type": "code",
   "execution_count": 37,
   "metadata": {},
   "outputs": [],
   "source": [
    "# Creating a dictionary for embeddings\n",
    "\n",
    "embedding_lookup = df.set_index('causal_gene_symbol')['causal_gene_embedding'].to_dict()"
   ]
  },
  {
   "cell_type": "code",
   "execution_count": 38,
   "metadata": {},
   "outputs": [],
   "source": [
    "# Defining function for mapping non_causal_embeddings\n",
    "\n",
    "def get_non_causal_embeddings(non_causal_genes):\n",
    "    embeddings = []\n",
    "    for gene in non_causal_genes.split(','):\n",
    "        if gene in embedding_lookup:\n",
    "            embeddings.append(embedding_lookup[gene])\n",
    "    \n",
    "    if embeddings:\n",
    "        return np.mean(embeddings, axis=0)\n",
    "    else:\n",
    "        return None"
   ]
  },
  {
   "cell_type": "code",
   "execution_count": 39,
   "metadata": {},
   "outputs": [],
   "source": [
    "# Creating a separate column for Non_causal_embeddings\n",
    "\n",
    "df['non_causal_gene_embedding'] = df['non_causal_gene_symbol'].apply(get_non_causal_embeddings)"
   ]
  },
  {
   "cell_type": "code",
   "execution_count": 40,
   "metadata": {},
   "outputs": [
    {
     "data": {
      "text/plain": [
       "description                  0\n",
       "causal_gene_symbol           0\n",
       "non_causal_gene_symbol       0\n",
       "causal_gene                  0\n",
       "non_causal_gene              0\n",
       "non_causal_gene_count        0\n",
       "gene_gpt_description         0\n",
       "causal_gene_embedding        0\n",
       "phenotype_gpt_description    0\n",
       "phenotype_embedding          0\n",
       "non_causal_gene_embedding    6\n",
       "dtype: int64"
      ]
     },
     "execution_count": 40,
     "metadata": {},
     "output_type": "execute_result"
    }
   ],
   "source": [
    "# Checking for Missing Values\n",
    "\n",
    "df.isnull().sum()"
   ]
  },
  {
   "cell_type": "code",
   "execution_count": 41,
   "metadata": {},
   "outputs": [
    {
     "data": {
      "text/html": [
       "<div>\n",
       "<style scoped>\n",
       "    .dataframe tbody tr th:only-of-type {\n",
       "        vertical-align: middle;\n",
       "    }\n",
       "\n",
       "    .dataframe tbody tr th {\n",
       "        vertical-align: top;\n",
       "    }\n",
       "\n",
       "    .dataframe thead th {\n",
       "        text-align: right;\n",
       "    }\n",
       "</style>\n",
       "<table border=\"1\" class=\"dataframe\">\n",
       "  <thead>\n",
       "    <tr style=\"text-align: right;\">\n",
       "      <th></th>\n",
       "      <th>description</th>\n",
       "      <th>causal_gene_symbol</th>\n",
       "      <th>non_causal_gene_symbol</th>\n",
       "      <th>causal_gene</th>\n",
       "      <th>non_causal_gene</th>\n",
       "      <th>non_causal_gene_count</th>\n",
       "      <th>gene_gpt_description</th>\n",
       "      <th>causal_gene_embedding</th>\n",
       "      <th>phenotype_gpt_description</th>\n",
       "      <th>phenotype_embedding</th>\n",
       "      <th>non_causal_gene_embedding</th>\n",
       "    </tr>\n",
       "  </thead>\n",
       "  <tbody>\n",
       "    <tr>\n",
       "      <th>0</th>\n",
       "      <td>Bilirubin levels</td>\n",
       "      <td>UGT1A8</td>\n",
       "      <td>ATG16L1,DGKD,HJURP,MROH2A,SAG,SPP2,TRPM8,UGT1A...</td>\n",
       "      <td>ENSG00000242366</td>\n",
       "      <td>ENSG00000072080,ENSG00000077044,ENSG0000008597...</td>\n",
       "      <td>17</td>\n",
       "      <td>The gene UGT1A8 belongs to the UDP-glucuronosy...</td>\n",
       "      <td>[-0.151290019111138, -0.09900812747591188]</td>\n",
       "      <td>Bilirubin is a yellow pigment that is produced...</td>\n",
       "      <td>[-0.1820697499272254, -0.11528358566852265]</td>\n",
       "      <td>[-0.08426456805904285, -0.07886668864840206]</td>\n",
       "    </tr>\n",
       "    <tr>\n",
       "      <th>1</th>\n",
       "      <td>Bilirubin levels</td>\n",
       "      <td>G6PD</td>\n",
       "      <td>ARHGAP4,ATP6AP1,AVPR2,CTAG1A,CTAG1B,CTAG2,DKC1...</td>\n",
       "      <td>ENSG00000160211</td>\n",
       "      <td>ENSG00000007350,ENSG00000013563,ENSG0000006784...</td>\n",
       "      <td>39</td>\n",
       "      <td>The gene G6PD, also known as glucose-6-phospha...</td>\n",
       "      <td>[-0.06833293980188676, -0.02553408202213633]</td>\n",
       "      <td>Bilirubin is a yellow pigment that is produced...</td>\n",
       "      <td>[-0.18206974992722488, -0.11528358566852065]</td>\n",
       "      <td>[-0.06833293980188676, -0.02553408202213633]</td>\n",
       "    </tr>\n",
       "    <tr>\n",
       "      <th>2</th>\n",
       "      <td>Sphingolipid levels (SM 14:0Mol%) (sphingomyel...</td>\n",
       "      <td>SGPP1</td>\n",
       "      <td>ESR2,GPHB5,PPP2R5E,RHOJ,SGPP1,SYNE2,WDR89</td>\n",
       "      <td>ENSG00000126821</td>\n",
       "      <td>ENSG00000054654,ENSG00000126785,ENSG0000012682...</td>\n",
       "      <td>7</td>\n",
       "      <td>The SGPP1 gene, also known as Sphingosine-1-ph...</td>\n",
       "      <td>[-0.11680610628160533, 0.01797285456070259]</td>\n",
       "      <td>Sphingolipids are a class of lipids that play ...</td>\n",
       "      <td>[-0.2574174937108582, -0.142658955683318]</td>\n",
       "      <td>[0.03904285296658052, 0.06838403973927627]</td>\n",
       "    </tr>\n",
       "    <tr>\n",
       "      <th>3</th>\n",
       "      <td>Vitamin D insufficiency (25-Hydroxyvitamin D2)</td>\n",
       "      <td>GC</td>\n",
       "      <td>GC,NPFFR2,SLC4A4</td>\n",
       "      <td>ENSG00000145321</td>\n",
       "      <td>ENSG00000056291,ENSG00000080493,ENSG00000145321</td>\n",
       "      <td>3</td>\n",
       "      <td>The gene GC, also known as the group-specific ...</td>\n",
       "      <td>[0.0627673155035477, 0.04571047997600332]</td>\n",
       "      <td>Vitamin D insufficiency, specifically referrin...</td>\n",
       "      <td>[-0.11293725914211786, -0.1853394285763402]</td>\n",
       "      <td>[0.06276731550354771, 0.04571047997600329]</td>\n",
       "    </tr>\n",
       "    <tr>\n",
       "      <th>4</th>\n",
       "      <td>Phosphorus levels</td>\n",
       "      <td>FGF23</td>\n",
       "      <td>AKAP3,C12orf4,CCND2,DYRK4,ENSG00000255639,ENSG...</td>\n",
       "      <td>ENSG00000118972</td>\n",
       "      <td>ENSG00000010219,ENSG00000047621,ENSG0000007823...</td>\n",
       "      <td>15</td>\n",
       "      <td>The gene FGF23 encodes a protein called fibrob...</td>\n",
       "      <td>[0.040922551447732776, -0.0006576377046954525]</td>\n",
       "      <td>Phosphorus is an essential mineral that plays ...</td>\n",
       "      <td>[-0.20361385284417927, -0.08258149516482377]</td>\n",
       "      <td>[0.040922551447732776, -0.0006576377046954525]</td>\n",
       "    </tr>\n",
       "  </tbody>\n",
       "</table>\n",
       "</div>"
      ],
      "text/plain": [
       "                                         description causal_gene_symbol  \\\n",
       "0                                   Bilirubin levels             UGT1A8   \n",
       "1                                   Bilirubin levels               G6PD   \n",
       "2  Sphingolipid levels (SM 14:0Mol%) (sphingomyel...              SGPP1   \n",
       "3     Vitamin D insufficiency (25-Hydroxyvitamin D2)                 GC   \n",
       "4                                  Phosphorus levels              FGF23   \n",
       "\n",
       "                              non_causal_gene_symbol      causal_gene  \\\n",
       "0  ATG16L1,DGKD,HJURP,MROH2A,SAG,SPP2,TRPM8,UGT1A...  ENSG00000242366   \n",
       "1  ARHGAP4,ATP6AP1,AVPR2,CTAG1A,CTAG1B,CTAG2,DKC1...  ENSG00000160211   \n",
       "2          ESR2,GPHB5,PPP2R5E,RHOJ,SGPP1,SYNE2,WDR89  ENSG00000126821   \n",
       "3                                   GC,NPFFR2,SLC4A4  ENSG00000145321   \n",
       "4  AKAP3,C12orf4,CCND2,DYRK4,ENSG00000255639,ENSG...  ENSG00000118972   \n",
       "\n",
       "                                     non_causal_gene  non_causal_gene_count  \\\n",
       "0  ENSG00000072080,ENSG00000077044,ENSG0000008597...                     17   \n",
       "1  ENSG00000007350,ENSG00000013563,ENSG0000006784...                     39   \n",
       "2  ENSG00000054654,ENSG00000126785,ENSG0000012682...                      7   \n",
       "3    ENSG00000056291,ENSG00000080493,ENSG00000145321                      3   \n",
       "4  ENSG00000010219,ENSG00000047621,ENSG0000007823...                     15   \n",
       "\n",
       "                                gene_gpt_description  \\\n",
       "0  The gene UGT1A8 belongs to the UDP-glucuronosy...   \n",
       "1  The gene G6PD, also known as glucose-6-phospha...   \n",
       "2  The SGPP1 gene, also known as Sphingosine-1-ph...   \n",
       "3  The gene GC, also known as the group-specific ...   \n",
       "4  The gene FGF23 encodes a protein called fibrob...   \n",
       "\n",
       "                            causal_gene_embedding  \\\n",
       "0      [-0.151290019111138, -0.09900812747591188]   \n",
       "1    [-0.06833293980188676, -0.02553408202213633]   \n",
       "2     [-0.11680610628160533, 0.01797285456070259]   \n",
       "3       [0.0627673155035477, 0.04571047997600332]   \n",
       "4  [0.040922551447732776, -0.0006576377046954525]   \n",
       "\n",
       "                           phenotype_gpt_description  \\\n",
       "0  Bilirubin is a yellow pigment that is produced...   \n",
       "1  Bilirubin is a yellow pigment that is produced...   \n",
       "2  Sphingolipids are a class of lipids that play ...   \n",
       "3  Vitamin D insufficiency, specifically referrin...   \n",
       "4  Phosphorus is an essential mineral that plays ...   \n",
       "\n",
       "                            phenotype_embedding  \\\n",
       "0   [-0.1820697499272254, -0.11528358566852265]   \n",
       "1  [-0.18206974992722488, -0.11528358566852065]   \n",
       "2     [-0.2574174937108582, -0.142658955683318]   \n",
       "3   [-0.11293725914211786, -0.1853394285763402]   \n",
       "4  [-0.20361385284417927, -0.08258149516482377]   \n",
       "\n",
       "                        non_causal_gene_embedding  \n",
       "0    [-0.08426456805904285, -0.07886668864840206]  \n",
       "1    [-0.06833293980188676, -0.02553408202213633]  \n",
       "2      [0.03904285296658052, 0.06838403973927627]  \n",
       "3      [0.06276731550354771, 0.04571047997600329]  \n",
       "4  [0.040922551447732776, -0.0006576377046954525]  "
      ]
     },
     "metadata": {},
     "output_type": "display_data"
    },
    {
     "data": {
      "text/plain": [
       "(359, 11)"
      ]
     },
     "metadata": {},
     "output_type": "display_data"
    }
   ],
   "source": [
    "# Dropping Missing Values\n",
    "\n",
    "df.dropna(inplace=True)\n",
    "display(df.head())\n",
    "display(df.shape)"
   ]
  },
  {
   "cell_type": "markdown",
   "metadata": {},
   "source": [
    "### Vector Analysis"
   ]
  },
  {
   "cell_type": "code",
   "execution_count": 42,
   "metadata": {},
   "outputs": [],
   "source": [
    "# Calculating Causal and Non-causal Difference\n",
    "\n",
    "df['causal_diff_vector'] = df.apply(lambda row: np.array(row['phenotype_embedding']) - np.array(row['causal_gene_embedding']), axis=1)\n",
    "df['non_causal_diff_vector'] = df.apply(lambda row: np.array(row['phenotype_embedding']) - np.array(row['non_causal_gene_embedding']), axis=1)"
   ]
  },
  {
   "cell_type": "code",
   "execution_count": 43,
   "metadata": {},
   "outputs": [],
   "source": [
    "# Calculating Causal and Non-causal Magnitude\n",
    "\n",
    "df['causal_magnitude'] = df['causal_diff_vector'].apply(lambda vec: np.linalg.norm(vec))\n",
    "df['non_causal_magnitude'] = df['non_causal_diff_vector'].apply(lambda vec: np.linalg.norm(vec))"
   ]
  },
  {
   "cell_type": "code",
   "execution_count": 44,
   "metadata": {},
   "outputs": [
    {
     "data": {
      "image/png": "[encoded data removed]",
      "text/plain": [
       "<Figure size 640x480 with 1 Axes>"
      ]
     },
     "metadata": {},
     "output_type": "display_data"
    }
   ],
   "source": [
    "# Plotting the distribution of magnitudes\n",
    "\n",
    "plt.hist(df['causal_magnitude'], bins=30, alpha=0.5, label='Causal')\n",
    "plt.hist(df['non_causal_magnitude'], bins=30, alpha=0.5, label='Non-Causal')\n",
    "plt.legend()\n",
    "plt.title('Magnitude of Difference Vectors for Causal vs Non-Causal Pairs')\n",
    "plt.show()"
   ]
  },
  {
   "cell_type": "markdown",
   "metadata": {},
   "source": [
    "##### Observations\n",
    "\n",
    "* Both causal and Non-Causal pairs have broadly overlapping distributions in terms of the magnitude of differnece vectors.\n",
    "\n",
    "* However, there are subtle distinctions: causal pairs appear slightly more frequent in the 0.2 - 0.3 range, while non-causall pairs dominate in the 0.3 - 0.3 range.\n",
    "\n",
    "* There are few instance where the non-causal gene-phenotype pairs might not be drastic in terms of vector magnitude.\n",
    "\n",
    "##### Conclusion\n",
    "\n",
    "This slight differences could indicate that causal and non-causal gene-phenotype pairs are not easily separable based on the magnitude of their differnece vectors alone. This overlap may suggest the need for more sophisticated feature engineering or analysis (such as focusing on specific dimensions of the embeddings) to identify a meaningful separation.\n"
   ]
  },
  {
   "cell_type": "markdown",
   "metadata": {},
   "source": [
    "### Cluster Analysis"
   ]
  },
  {
   "cell_type": "code",
   "execution_count": 45,
   "metadata": {},
   "outputs": [],
   "source": [
    "# Combining causal and non-causal difference vectors for clustering\n",
    "diff_vectors = np.vstack((np.stack(df['causal_diff_vector']), np.stack(df['non_causal_diff_vector'])))\n",
    "labels = ['causal'] * len(df) + ['non-causal'] * len(df)"
   ]
  },
  {
   "cell_type": "code",
   "execution_count": 46,
   "metadata": {},
   "outputs": [],
   "source": [
    "# Performing PCA for 2D visualization\n",
    "\n",
    "pca = PCA(n_components=2)\n",
    "diff_vectors_2d = pca.fit_transform(diff_vectors)"
   ]
  },
  {
   "cell_type": "code",
   "execution_count": 47,
   "metadata": {},
   "outputs": [],
   "source": [
    "# Applying K-Means clustering\n",
    "from sklearn.cluster import KMeans\n",
    "\n",
    "kmeans = KMeans(n_clusters=2, random_state=0).fit(diff_vectors)\n",
    "df['cluster_labels'] = kmeans.labels_[:len(df)]  # causal clusters\n",
    "df['non_causal_cluster_labels'] = kmeans.labels_[len(df):]  # non-causal clusters"
   ]
  },
  {
   "cell_type": "code",
   "execution_count": 48,
   "metadata": {},
   "outputs": [
    {
     "data": {
      "image/png": "[encoded data removed]",
      "text/plain": [
       "<Figure size 800x600 with 1 Axes>"
      ]
     },
     "metadata": {},
     "output_type": "display_data"
    }
   ],
   "source": [
    "# Plotting the clusters\n",
    "\n",
    "plt.figure(figsize=(8, 6))\n",
    "plt.scatter(diff_vectors_2d[:len(df), 0], diff_vectors_2d[:len(df), 1], c='blue', label='Causal')\n",
    "plt.scatter(diff_vectors_2d[len(df):, 0], diff_vectors_2d[len(df):, 1], c='red', label='Non-Causal')\n",
    "plt.xlabel('PCA Component 1')\n",
    "plt.ylabel('PCA Component 2')\n",
    "plt.legend()\n",
    "plt.title('Clustering of Difference Vectors')\n",
    "plt.show()"
   ]
  },
  {
   "cell_type": "markdown",
   "metadata": {},
   "source": [
    "##### Observations for K-Means Cluster\n",
    "\n",
    "* Both causal (blue) and non-causal (red) points are scattered throughout the plot, with a significant amount of overlap.\n",
    "\n",
    "* There doesn't appear to be a clear separation or clustering of causal versus non-causal points based on the reduced components, although there are small clusters or groups, particularly towards the right-hand side of the plot.\n",
    "\n",
    "* The PCA components which reduce the embedding's dimensionality, do not show a clear separation between causal and non-causal relationships, implying that these embeddings, when reduced, don't exhibit an obvious signal for distinguishing between causal and non-causal genes."
   ]
  },
  {
   "cell_type": "code",
   "execution_count": 49,
   "metadata": {},
   "outputs": [
    {
     "data": {
      "image/png": "[encoded data removed]",
      "text/plain": [
       "<Figure size 640x480 with 1 Axes>"
      ]
     },
     "metadata": {},
     "output_type": "display_data"
    }
   ],
   "source": [
    "from sklearn.cluster import AgglomerativeClustering\n",
    "\n",
    "hierarchical = AgglomerativeClustering(n_clusters=5, affinity='cosine', linkage='average')\n",
    "hierarchical_labels = hierarchical.fit_predict(diff_vectors)\n",
    "\n",
    "plt.scatter(diff_vectors[:, 0], diff_vectors[:, 1], c=hierarchical_labels, cmap='rainbow')\n",
    "plt.title('Hierarchical Clustering')\n",
    "plt.xlabel('PCA Component 1')\n",
    "plt.ylabel('PCA Component 2')\n",
    "plt.show()"
   ]
  },
  {
   "cell_type": "markdown",
   "metadata": {},
   "source": [
    "##### Observations for Hierarchical Clustering\n",
    "\n",
    "* Comparing this output to the K-Means clustering results, the hierarchical clustering seems to have produced clusters that capture more granularity, particularly in terms of separating certain subsets.\n",
    "\n",
    "* The clusters produced by hierarchical clustering could indicate that certain gene-phenotype pairs in particular, those in the well-separated clusters like red and purple may have distinct characteristics that differentiate them from the others."
   ]
  },
  {
   "cell_type": "code",
   "execution_count": 50,
   "metadata": {},
   "outputs": [
    {
     "data": {
      "image/png": "[encoded data removed]",
      "text/plain": [
       "<Figure size 640x480 with 1 Axes>"
      ]
     },
     "metadata": {},
     "output_type": "display_data"
    }
   ],
   "source": [
    "from sklearn.cluster import DBSCAN\n",
    "\n",
    "dbscan = DBSCAN(eps=0.3, min_samples=5)\n",
    "dbscan_labels = dbscan.fit_predict(diff_vectors)\n",
    "\n",
    "plt.scatter(diff_vectors[:, 0], diff_vectors[:, 1], c=dbscan_labels, cmap='plasma')\n",
    "plt.title(\"DBSCAN Clustering\")\n",
    "plt.xlabel(\"PCA Component 1\")\n",
    "plt.ylabel(\"PCA Component 2\")\n",
    "plt.show()"
   ]
  },
  {
   "cell_type": "markdown",
   "metadata": {},
   "source": [
    "##### Observations for DBSCAN Clustering\n",
    "\n",
    "* A single cluster suggests that the feature embeddings for both causal and non-causal gene-phenotype pairs are relatively homogeneous in nature. This might further highlight the challenge in distinguishing these pairs based on the current embedding.\n",
    "\n",
    "* DBSCAN is unable to form multiple clusters suggests that the data does not possess the kind of density variations DBSCAN requires, reinforcing the need for more advanced feature engineering or parameter tuning for better separation."
   ]
  },
  {
   "cell_type": "markdown",
   "metadata": {},
   "source": []
  }
 ],
 "metadata": {
  "kernelspec": {
   "display_name": "analytics",
   "language": "python",
   "name": "python3"
  },
  "language_info": {
   "codemirror_mode": {
    "name": "ipython",
    "version": 3
   },
   "file_extension": ".py",
   "mimetype": "text/x-python",
   "name": "python",
   "nbconvert_exporter": "python",
   "pygments_lexer": "ipython3",
   "version": "3.11.5"
  }
 },
 "nbformat": 4,
 "nbformat_minor": 2
}
